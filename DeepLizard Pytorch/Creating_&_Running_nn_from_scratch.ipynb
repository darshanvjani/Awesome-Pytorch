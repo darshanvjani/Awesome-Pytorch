{
  "nbformat": 4,
  "nbformat_minor": 0,
  "metadata": {
    "colab": {
      "name": "Creating & Running nn from scratch.ipynb",
      "provenance": []
    },
    "kernelspec": {
      "name": "python3",
      "display_name": "Python 3"
    },
    "language_info": {
      "name": "python"
    },
    "widgets": {
      "application/vnd.jupyter.widget-state+json": {
        "6a7a50cb6f9d4f409737dc11e371b11e": {
          "model_module": "@jupyter-widgets/controls",
          "model_name": "HBoxModel",
          "state": {
            "_view_name": "HBoxView",
            "_dom_classes": [],
            "_model_name": "HBoxModel",
            "_view_module": "@jupyter-widgets/controls",
            "_model_module_version": "1.5.0",
            "_view_count": null,
            "_view_module_version": "1.5.0",
            "box_style": "",
            "layout": "IPY_MODEL_e26a9013d47b42bc99439e017de94bb0",
            "_model_module": "@jupyter-widgets/controls",
            "children": [
              "IPY_MODEL_ade49bcf3d634fe2a7d1ba3264af3e20",
              "IPY_MODEL_9ca1f650b1824baba935e9104f74f017"
            ]
          }
        },
        "e26a9013d47b42bc99439e017de94bb0": {
          "model_module": "@jupyter-widgets/base",
          "model_name": "LayoutModel",
          "state": {
            "_view_name": "LayoutView",
            "grid_template_rows": null,
            "right": null,
            "justify_content": null,
            "_view_module": "@jupyter-widgets/base",
            "overflow": null,
            "_model_module_version": "1.2.0",
            "_view_count": null,
            "flex_flow": null,
            "width": null,
            "min_width": null,
            "border": null,
            "align_items": null,
            "bottom": null,
            "_model_module": "@jupyter-widgets/base",
            "top": null,
            "grid_column": null,
            "overflow_y": null,
            "overflow_x": null,
            "grid_auto_flow": null,
            "grid_area": null,
            "grid_template_columns": null,
            "flex": null,
            "_model_name": "LayoutModel",
            "justify_items": null,
            "grid_row": null,
            "max_height": null,
            "align_content": null,
            "visibility": null,
            "align_self": null,
            "height": null,
            "min_height": null,
            "padding": null,
            "grid_auto_rows": null,
            "grid_gap": null,
            "max_width": null,
            "order": null,
            "_view_module_version": "1.2.0",
            "grid_template_areas": null,
            "object_position": null,
            "object_fit": null,
            "grid_auto_columns": null,
            "margin": null,
            "display": null,
            "left": null
          }
        },
        "ade49bcf3d634fe2a7d1ba3264af3e20": {
          "model_module": "@jupyter-widgets/controls",
          "model_name": "FloatProgressModel",
          "state": {
            "_view_name": "ProgressView",
            "style": "IPY_MODEL_b4fe0baafabd4e7187e60561413b6996",
            "_dom_classes": [],
            "description": "",
            "_model_name": "FloatProgressModel",
            "bar_style": "success",
            "max": 26421880,
            "_view_module": "@jupyter-widgets/controls",
            "_model_module_version": "1.5.0",
            "value": 26421880,
            "_view_count": null,
            "_view_module_version": "1.5.0",
            "orientation": "horizontal",
            "min": 0,
            "description_tooltip": null,
            "_model_module": "@jupyter-widgets/controls",
            "layout": "IPY_MODEL_afb8d8e9767a4b51bd00a81642ccdee5"
          }
        },
        "9ca1f650b1824baba935e9104f74f017": {
          "model_module": "@jupyter-widgets/controls",
          "model_name": "HTMLModel",
          "state": {
            "_view_name": "HTMLView",
            "style": "IPY_MODEL_7450bb3e3cfd4f8e8fce22e7e877d1b7",
            "_dom_classes": [],
            "description": "",
            "_model_name": "HTMLModel",
            "placeholder": "​",
            "_view_module": "@jupyter-widgets/controls",
            "_model_module_version": "1.5.0",
            "value": " 26422272/? [00:00&lt;00:00, 79231415.69it/s]",
            "_view_count": null,
            "_view_module_version": "1.5.0",
            "description_tooltip": null,
            "_model_module": "@jupyter-widgets/controls",
            "layout": "IPY_MODEL_2e3e6461d31d4c57969c26392c1c5288"
          }
        },
        "b4fe0baafabd4e7187e60561413b6996": {
          "model_module": "@jupyter-widgets/controls",
          "model_name": "ProgressStyleModel",
          "state": {
            "_view_name": "StyleView",
            "_model_name": "ProgressStyleModel",
            "description_width": "initial",
            "_view_module": "@jupyter-widgets/base",
            "_model_module_version": "1.5.0",
            "_view_count": null,
            "_view_module_version": "1.2.0",
            "bar_color": null,
            "_model_module": "@jupyter-widgets/controls"
          }
        },
        "afb8d8e9767a4b51bd00a81642ccdee5": {
          "model_module": "@jupyter-widgets/base",
          "model_name": "LayoutModel",
          "state": {
            "_view_name": "LayoutView",
            "grid_template_rows": null,
            "right": null,
            "justify_content": null,
            "_view_module": "@jupyter-widgets/base",
            "overflow": null,
            "_model_module_version": "1.2.0",
            "_view_count": null,
            "flex_flow": null,
            "width": null,
            "min_width": null,
            "border": null,
            "align_items": null,
            "bottom": null,
            "_model_module": "@jupyter-widgets/base",
            "top": null,
            "grid_column": null,
            "overflow_y": null,
            "overflow_x": null,
            "grid_auto_flow": null,
            "grid_area": null,
            "grid_template_columns": null,
            "flex": null,
            "_model_name": "LayoutModel",
            "justify_items": null,
            "grid_row": null,
            "max_height": null,
            "align_content": null,
            "visibility": null,
            "align_self": null,
            "height": null,
            "min_height": null,
            "padding": null,
            "grid_auto_rows": null,
            "grid_gap": null,
            "max_width": null,
            "order": null,
            "_view_module_version": "1.2.0",
            "grid_template_areas": null,
            "object_position": null,
            "object_fit": null,
            "grid_auto_columns": null,
            "margin": null,
            "display": null,
            "left": null
          }
        },
        "7450bb3e3cfd4f8e8fce22e7e877d1b7": {
          "model_module": "@jupyter-widgets/controls",
          "model_name": "DescriptionStyleModel",
          "state": {
            "_view_name": "StyleView",
            "_model_name": "DescriptionStyleModel",
            "description_width": "",
            "_view_module": "@jupyter-widgets/base",
            "_model_module_version": "1.5.0",
            "_view_count": null,
            "_view_module_version": "1.2.0",
            "_model_module": "@jupyter-widgets/controls"
          }
        },
        "2e3e6461d31d4c57969c26392c1c5288": {
          "model_module": "@jupyter-widgets/base",
          "model_name": "LayoutModel",
          "state": {
            "_view_name": "LayoutView",
            "grid_template_rows": null,
            "right": null,
            "justify_content": null,
            "_view_module": "@jupyter-widgets/base",
            "overflow": null,
            "_model_module_version": "1.2.0",
            "_view_count": null,
            "flex_flow": null,
            "width": null,
            "min_width": null,
            "border": null,
            "align_items": null,
            "bottom": null,
            "_model_module": "@jupyter-widgets/base",
            "top": null,
            "grid_column": null,
            "overflow_y": null,
            "overflow_x": null,
            "grid_auto_flow": null,
            "grid_area": null,
            "grid_template_columns": null,
            "flex": null,
            "_model_name": "LayoutModel",
            "justify_items": null,
            "grid_row": null,
            "max_height": null,
            "align_content": null,
            "visibility": null,
            "align_self": null,
            "height": null,
            "min_height": null,
            "padding": null,
            "grid_auto_rows": null,
            "grid_gap": null,
            "max_width": null,
            "order": null,
            "_view_module_version": "1.2.0",
            "grid_template_areas": null,
            "object_position": null,
            "object_fit": null,
            "grid_auto_columns": null,
            "margin": null,
            "display": null,
            "left": null
          }
        },
        "8c9ed3190a2342909b97c1f230e198e6": {
          "model_module": "@jupyter-widgets/controls",
          "model_name": "HBoxModel",
          "state": {
            "_view_name": "HBoxView",
            "_dom_classes": [],
            "_model_name": "HBoxModel",
            "_view_module": "@jupyter-widgets/controls",
            "_model_module_version": "1.5.0",
            "_view_count": null,
            "_view_module_version": "1.5.0",
            "box_style": "",
            "layout": "IPY_MODEL_0ad917b6e90e460b991e1fd909c914e3",
            "_model_module": "@jupyter-widgets/controls",
            "children": [
              "IPY_MODEL_495c669240c5401994c3b069fd54ded7",
              "IPY_MODEL_fdd54d6dd86c4b09a20366e2ed4bd3f3"
            ]
          }
        },
        "0ad917b6e90e460b991e1fd909c914e3": {
          "model_module": "@jupyter-widgets/base",
          "model_name": "LayoutModel",
          "state": {
            "_view_name": "LayoutView",
            "grid_template_rows": null,
            "right": null,
            "justify_content": null,
            "_view_module": "@jupyter-widgets/base",
            "overflow": null,
            "_model_module_version": "1.2.0",
            "_view_count": null,
            "flex_flow": null,
            "width": null,
            "min_width": null,
            "border": null,
            "align_items": null,
            "bottom": null,
            "_model_module": "@jupyter-widgets/base",
            "top": null,
            "grid_column": null,
            "overflow_y": null,
            "overflow_x": null,
            "grid_auto_flow": null,
            "grid_area": null,
            "grid_template_columns": null,
            "flex": null,
            "_model_name": "LayoutModel",
            "justify_items": null,
            "grid_row": null,
            "max_height": null,
            "align_content": null,
            "visibility": null,
            "align_self": null,
            "height": null,
            "min_height": null,
            "padding": null,
            "grid_auto_rows": null,
            "grid_gap": null,
            "max_width": null,
            "order": null,
            "_view_module_version": "1.2.0",
            "grid_template_areas": null,
            "object_position": null,
            "object_fit": null,
            "grid_auto_columns": null,
            "margin": null,
            "display": null,
            "left": null
          }
        },
        "495c669240c5401994c3b069fd54ded7": {
          "model_module": "@jupyter-widgets/controls",
          "model_name": "FloatProgressModel",
          "state": {
            "_view_name": "ProgressView",
            "style": "IPY_MODEL_cf92a7ac90854b2dbbffd33fc26342d6",
            "_dom_classes": [],
            "description": "",
            "_model_name": "FloatProgressModel",
            "bar_style": "success",
            "max": 29515,
            "_view_module": "@jupyter-widgets/controls",
            "_model_module_version": "1.5.0",
            "value": 29515,
            "_view_count": null,
            "_view_module_version": "1.5.0",
            "orientation": "horizontal",
            "min": 0,
            "description_tooltip": null,
            "_model_module": "@jupyter-widgets/controls",
            "layout": "IPY_MODEL_b23f4155cdb343a1ba8fa0228bb78a18"
          }
        },
        "fdd54d6dd86c4b09a20366e2ed4bd3f3": {
          "model_module": "@jupyter-widgets/controls",
          "model_name": "HTMLModel",
          "state": {
            "_view_name": "HTMLView",
            "style": "IPY_MODEL_f65817f96cb94053847ddbfc58143dc3",
            "_dom_classes": [],
            "description": "",
            "_model_name": "HTMLModel",
            "placeholder": "​",
            "_view_module": "@jupyter-widgets/controls",
            "_model_module_version": "1.5.0",
            "value": " 29696/? [00:00&lt;00:00, 927866.77it/s]",
            "_view_count": null,
            "_view_module_version": "1.5.0",
            "description_tooltip": null,
            "_model_module": "@jupyter-widgets/controls",
            "layout": "IPY_MODEL_a333987ad4594684b25cd6c94616f6f3"
          }
        },
        "cf92a7ac90854b2dbbffd33fc26342d6": {
          "model_module": "@jupyter-widgets/controls",
          "model_name": "ProgressStyleModel",
          "state": {
            "_view_name": "StyleView",
            "_model_name": "ProgressStyleModel",
            "description_width": "initial",
            "_view_module": "@jupyter-widgets/base",
            "_model_module_version": "1.5.0",
            "_view_count": null,
            "_view_module_version": "1.2.0",
            "bar_color": null,
            "_model_module": "@jupyter-widgets/controls"
          }
        },
        "b23f4155cdb343a1ba8fa0228bb78a18": {
          "model_module": "@jupyter-widgets/base",
          "model_name": "LayoutModel",
          "state": {
            "_view_name": "LayoutView",
            "grid_template_rows": null,
            "right": null,
            "justify_content": null,
            "_view_module": "@jupyter-widgets/base",
            "overflow": null,
            "_model_module_version": "1.2.0",
            "_view_count": null,
            "flex_flow": null,
            "width": null,
            "min_width": null,
            "border": null,
            "align_items": null,
            "bottom": null,
            "_model_module": "@jupyter-widgets/base",
            "top": null,
            "grid_column": null,
            "overflow_y": null,
            "overflow_x": null,
            "grid_auto_flow": null,
            "grid_area": null,
            "grid_template_columns": null,
            "flex": null,
            "_model_name": "LayoutModel",
            "justify_items": null,
            "grid_row": null,
            "max_height": null,
            "align_content": null,
            "visibility": null,
            "align_self": null,
            "height": null,
            "min_height": null,
            "padding": null,
            "grid_auto_rows": null,
            "grid_gap": null,
            "max_width": null,
            "order": null,
            "_view_module_version": "1.2.0",
            "grid_template_areas": null,
            "object_position": null,
            "object_fit": null,
            "grid_auto_columns": null,
            "margin": null,
            "display": null,
            "left": null
          }
        },
        "f65817f96cb94053847ddbfc58143dc3": {
          "model_module": "@jupyter-widgets/controls",
          "model_name": "DescriptionStyleModel",
          "state": {
            "_view_name": "StyleView",
            "_model_name": "DescriptionStyleModel",
            "description_width": "",
            "_view_module": "@jupyter-widgets/base",
            "_model_module_version": "1.5.0",
            "_view_count": null,
            "_view_module_version": "1.2.0",
            "_model_module": "@jupyter-widgets/controls"
          }
        },
        "a333987ad4594684b25cd6c94616f6f3": {
          "model_module": "@jupyter-widgets/base",
          "model_name": "LayoutModel",
          "state": {
            "_view_name": "LayoutView",
            "grid_template_rows": null,
            "right": null,
            "justify_content": null,
            "_view_module": "@jupyter-widgets/base",
            "overflow": null,
            "_model_module_version": "1.2.0",
            "_view_count": null,
            "flex_flow": null,
            "width": null,
            "min_width": null,
            "border": null,
            "align_items": null,
            "bottom": null,
            "_model_module": "@jupyter-widgets/base",
            "top": null,
            "grid_column": null,
            "overflow_y": null,
            "overflow_x": null,
            "grid_auto_flow": null,
            "grid_area": null,
            "grid_template_columns": null,
            "flex": null,
            "_model_name": "LayoutModel",
            "justify_items": null,
            "grid_row": null,
            "max_height": null,
            "align_content": null,
            "visibility": null,
            "align_self": null,
            "height": null,
            "min_height": null,
            "padding": null,
            "grid_auto_rows": null,
            "grid_gap": null,
            "max_width": null,
            "order": null,
            "_view_module_version": "1.2.0",
            "grid_template_areas": null,
            "object_position": null,
            "object_fit": null,
            "grid_auto_columns": null,
            "margin": null,
            "display": null,
            "left": null
          }
        },
        "04157194a9ce4b9aa3464f07175cc196": {
          "model_module": "@jupyter-widgets/controls",
          "model_name": "HBoxModel",
          "state": {
            "_view_name": "HBoxView",
            "_dom_classes": [],
            "_model_name": "HBoxModel",
            "_view_module": "@jupyter-widgets/controls",
            "_model_module_version": "1.5.0",
            "_view_count": null,
            "_view_module_version": "1.5.0",
            "box_style": "",
            "layout": "IPY_MODEL_42e530612ae845579dc7041a07dc73a6",
            "_model_module": "@jupyter-widgets/controls",
            "children": [
              "IPY_MODEL_5ef6fa5bfec740a18e275691a9f1e84c",
              "IPY_MODEL_f3e0117c76904f96b27411ec7dfeecbe"
            ]
          }
        },
        "42e530612ae845579dc7041a07dc73a6": {
          "model_module": "@jupyter-widgets/base",
          "model_name": "LayoutModel",
          "state": {
            "_view_name": "LayoutView",
            "grid_template_rows": null,
            "right": null,
            "justify_content": null,
            "_view_module": "@jupyter-widgets/base",
            "overflow": null,
            "_model_module_version": "1.2.0",
            "_view_count": null,
            "flex_flow": null,
            "width": null,
            "min_width": null,
            "border": null,
            "align_items": null,
            "bottom": null,
            "_model_module": "@jupyter-widgets/base",
            "top": null,
            "grid_column": null,
            "overflow_y": null,
            "overflow_x": null,
            "grid_auto_flow": null,
            "grid_area": null,
            "grid_template_columns": null,
            "flex": null,
            "_model_name": "LayoutModel",
            "justify_items": null,
            "grid_row": null,
            "max_height": null,
            "align_content": null,
            "visibility": null,
            "align_self": null,
            "height": null,
            "min_height": null,
            "padding": null,
            "grid_auto_rows": null,
            "grid_gap": null,
            "max_width": null,
            "order": null,
            "_view_module_version": "1.2.0",
            "grid_template_areas": null,
            "object_position": null,
            "object_fit": null,
            "grid_auto_columns": null,
            "margin": null,
            "display": null,
            "left": null
          }
        },
        "5ef6fa5bfec740a18e275691a9f1e84c": {
          "model_module": "@jupyter-widgets/controls",
          "model_name": "FloatProgressModel",
          "state": {
            "_view_name": "ProgressView",
            "style": "IPY_MODEL_40e319167ab74ebf9e3644c1aaca3ad1",
            "_dom_classes": [],
            "description": "",
            "_model_name": "FloatProgressModel",
            "bar_style": "success",
            "max": 4422102,
            "_view_module": "@jupyter-widgets/controls",
            "_model_module_version": "1.5.0",
            "value": 4422102,
            "_view_count": null,
            "_view_module_version": "1.5.0",
            "orientation": "horizontal",
            "min": 0,
            "description_tooltip": null,
            "_model_module": "@jupyter-widgets/controls",
            "layout": "IPY_MODEL_b63566c9e8a442c2aa7fdd501a2b198a"
          }
        },
        "f3e0117c76904f96b27411ec7dfeecbe": {
          "model_module": "@jupyter-widgets/controls",
          "model_name": "HTMLModel",
          "state": {
            "_view_name": "HTMLView",
            "style": "IPY_MODEL_e800af349bfc48208519882c1bf2efcb",
            "_dom_classes": [],
            "description": "",
            "_model_name": "HTMLModel",
            "placeholder": "​",
            "_view_module": "@jupyter-widgets/controls",
            "_model_module_version": "1.5.0",
            "value": " 4422656/? [00:00&lt;00:00, 8005235.46it/s]",
            "_view_count": null,
            "_view_module_version": "1.5.0",
            "description_tooltip": null,
            "_model_module": "@jupyter-widgets/controls",
            "layout": "IPY_MODEL_795fcb4471fc4dcc8f499473986c4b33"
          }
        },
        "40e319167ab74ebf9e3644c1aaca3ad1": {
          "model_module": "@jupyter-widgets/controls",
          "model_name": "ProgressStyleModel",
          "state": {
            "_view_name": "StyleView",
            "_model_name": "ProgressStyleModel",
            "description_width": "initial",
            "_view_module": "@jupyter-widgets/base",
            "_model_module_version": "1.5.0",
            "_view_count": null,
            "_view_module_version": "1.2.0",
            "bar_color": null,
            "_model_module": "@jupyter-widgets/controls"
          }
        },
        "b63566c9e8a442c2aa7fdd501a2b198a": {
          "model_module": "@jupyter-widgets/base",
          "model_name": "LayoutModel",
          "state": {
            "_view_name": "LayoutView",
            "grid_template_rows": null,
            "right": null,
            "justify_content": null,
            "_view_module": "@jupyter-widgets/base",
            "overflow": null,
            "_model_module_version": "1.2.0",
            "_view_count": null,
            "flex_flow": null,
            "width": null,
            "min_width": null,
            "border": null,
            "align_items": null,
            "bottom": null,
            "_model_module": "@jupyter-widgets/base",
            "top": null,
            "grid_column": null,
            "overflow_y": null,
            "overflow_x": null,
            "grid_auto_flow": null,
            "grid_area": null,
            "grid_template_columns": null,
            "flex": null,
            "_model_name": "LayoutModel",
            "justify_items": null,
            "grid_row": null,
            "max_height": null,
            "align_content": null,
            "visibility": null,
            "align_self": null,
            "height": null,
            "min_height": null,
            "padding": null,
            "grid_auto_rows": null,
            "grid_gap": null,
            "max_width": null,
            "order": null,
            "_view_module_version": "1.2.0",
            "grid_template_areas": null,
            "object_position": null,
            "object_fit": null,
            "grid_auto_columns": null,
            "margin": null,
            "display": null,
            "left": null
          }
        },
        "e800af349bfc48208519882c1bf2efcb": {
          "model_module": "@jupyter-widgets/controls",
          "model_name": "DescriptionStyleModel",
          "state": {
            "_view_name": "StyleView",
            "_model_name": "DescriptionStyleModel",
            "description_width": "",
            "_view_module": "@jupyter-widgets/base",
            "_model_module_version": "1.5.0",
            "_view_count": null,
            "_view_module_version": "1.2.0",
            "_model_module": "@jupyter-widgets/controls"
          }
        },
        "795fcb4471fc4dcc8f499473986c4b33": {
          "model_module": "@jupyter-widgets/base",
          "model_name": "LayoutModel",
          "state": {
            "_view_name": "LayoutView",
            "grid_template_rows": null,
            "right": null,
            "justify_content": null,
            "_view_module": "@jupyter-widgets/base",
            "overflow": null,
            "_model_module_version": "1.2.0",
            "_view_count": null,
            "flex_flow": null,
            "width": null,
            "min_width": null,
            "border": null,
            "align_items": null,
            "bottom": null,
            "_model_module": "@jupyter-widgets/base",
            "top": null,
            "grid_column": null,
            "overflow_y": null,
            "overflow_x": null,
            "grid_auto_flow": null,
            "grid_area": null,
            "grid_template_columns": null,
            "flex": null,
            "_model_name": "LayoutModel",
            "justify_items": null,
            "grid_row": null,
            "max_height": null,
            "align_content": null,
            "visibility": null,
            "align_self": null,
            "height": null,
            "min_height": null,
            "padding": null,
            "grid_auto_rows": null,
            "grid_gap": null,
            "max_width": null,
            "order": null,
            "_view_module_version": "1.2.0",
            "grid_template_areas": null,
            "object_position": null,
            "object_fit": null,
            "grid_auto_columns": null,
            "margin": null,
            "display": null,
            "left": null
          }
        },
        "d5667ed8dc8a4ab48d74b71e99d32f8b": {
          "model_module": "@jupyter-widgets/controls",
          "model_name": "HBoxModel",
          "state": {
            "_view_name": "HBoxView",
            "_dom_classes": [],
            "_model_name": "HBoxModel",
            "_view_module": "@jupyter-widgets/controls",
            "_model_module_version": "1.5.0",
            "_view_count": null,
            "_view_module_version": "1.5.0",
            "box_style": "",
            "layout": "IPY_MODEL_ea2709b85a7240ad84daa4ecb08b96d4",
            "_model_module": "@jupyter-widgets/controls",
            "children": [
              "IPY_MODEL_d630470770f94c5b98fe2fd2b7bfee0f",
              "IPY_MODEL_a0fda735e6e041fc8ba83a44a1c6c4bb"
            ]
          }
        },
        "ea2709b85a7240ad84daa4ecb08b96d4": {
          "model_module": "@jupyter-widgets/base",
          "model_name": "LayoutModel",
          "state": {
            "_view_name": "LayoutView",
            "grid_template_rows": null,
            "right": null,
            "justify_content": null,
            "_view_module": "@jupyter-widgets/base",
            "overflow": null,
            "_model_module_version": "1.2.0",
            "_view_count": null,
            "flex_flow": null,
            "width": null,
            "min_width": null,
            "border": null,
            "align_items": null,
            "bottom": null,
            "_model_module": "@jupyter-widgets/base",
            "top": null,
            "grid_column": null,
            "overflow_y": null,
            "overflow_x": null,
            "grid_auto_flow": null,
            "grid_area": null,
            "grid_template_columns": null,
            "flex": null,
            "_model_name": "LayoutModel",
            "justify_items": null,
            "grid_row": null,
            "max_height": null,
            "align_content": null,
            "visibility": null,
            "align_self": null,
            "height": null,
            "min_height": null,
            "padding": null,
            "grid_auto_rows": null,
            "grid_gap": null,
            "max_width": null,
            "order": null,
            "_view_module_version": "1.2.0",
            "grid_template_areas": null,
            "object_position": null,
            "object_fit": null,
            "grid_auto_columns": null,
            "margin": null,
            "display": null,
            "left": null
          }
        },
        "d630470770f94c5b98fe2fd2b7bfee0f": {
          "model_module": "@jupyter-widgets/controls",
          "model_name": "FloatProgressModel",
          "state": {
            "_view_name": "ProgressView",
            "style": "IPY_MODEL_64d12745d0c546e4b58923e3fa1b772f",
            "_dom_classes": [],
            "description": "",
            "_model_name": "FloatProgressModel",
            "bar_style": "success",
            "max": 5148,
            "_view_module": "@jupyter-widgets/controls",
            "_model_module_version": "1.5.0",
            "value": 5148,
            "_view_count": null,
            "_view_module_version": "1.5.0",
            "orientation": "horizontal",
            "min": 0,
            "description_tooltip": null,
            "_model_module": "@jupyter-widgets/controls",
            "layout": "IPY_MODEL_5ac9139a488643b8b0eba64f70512845"
          }
        },
        "a0fda735e6e041fc8ba83a44a1c6c4bb": {
          "model_module": "@jupyter-widgets/controls",
          "model_name": "HTMLModel",
          "state": {
            "_view_name": "HTMLView",
            "style": "IPY_MODEL_1c27b19bf3fd4ac6a79e6ee6c31d2caf",
            "_dom_classes": [],
            "description": "",
            "_model_name": "HTMLModel",
            "placeholder": "​",
            "_view_module": "@jupyter-widgets/controls",
            "_model_module_version": "1.5.0",
            "value": " 6144/? [00:00&lt;00:00, 23255.57it/s]",
            "_view_count": null,
            "_view_module_version": "1.5.0",
            "description_tooltip": null,
            "_model_module": "@jupyter-widgets/controls",
            "layout": "IPY_MODEL_a7d67d53ad7c43608bef432e41c77044"
          }
        },
        "64d12745d0c546e4b58923e3fa1b772f": {
          "model_module": "@jupyter-widgets/controls",
          "model_name": "ProgressStyleModel",
          "state": {
            "_view_name": "StyleView",
            "_model_name": "ProgressStyleModel",
            "description_width": "initial",
            "_view_module": "@jupyter-widgets/base",
            "_model_module_version": "1.5.0",
            "_view_count": null,
            "_view_module_version": "1.2.0",
            "bar_color": null,
            "_model_module": "@jupyter-widgets/controls"
          }
        },
        "5ac9139a488643b8b0eba64f70512845": {
          "model_module": "@jupyter-widgets/base",
          "model_name": "LayoutModel",
          "state": {
            "_view_name": "LayoutView",
            "grid_template_rows": null,
            "right": null,
            "justify_content": null,
            "_view_module": "@jupyter-widgets/base",
            "overflow": null,
            "_model_module_version": "1.2.0",
            "_view_count": null,
            "flex_flow": null,
            "width": null,
            "min_width": null,
            "border": null,
            "align_items": null,
            "bottom": null,
            "_model_module": "@jupyter-widgets/base",
            "top": null,
            "grid_column": null,
            "overflow_y": null,
            "overflow_x": null,
            "grid_auto_flow": null,
            "grid_area": null,
            "grid_template_columns": null,
            "flex": null,
            "_model_name": "LayoutModel",
            "justify_items": null,
            "grid_row": null,
            "max_height": null,
            "align_content": null,
            "visibility": null,
            "align_self": null,
            "height": null,
            "min_height": null,
            "padding": null,
            "grid_auto_rows": null,
            "grid_gap": null,
            "max_width": null,
            "order": null,
            "_view_module_version": "1.2.0",
            "grid_template_areas": null,
            "object_position": null,
            "object_fit": null,
            "grid_auto_columns": null,
            "margin": null,
            "display": null,
            "left": null
          }
        },
        "1c27b19bf3fd4ac6a79e6ee6c31d2caf": {
          "model_module": "@jupyter-widgets/controls",
          "model_name": "DescriptionStyleModel",
          "state": {
            "_view_name": "StyleView",
            "_model_name": "DescriptionStyleModel",
            "description_width": "",
            "_view_module": "@jupyter-widgets/base",
            "_model_module_version": "1.5.0",
            "_view_count": null,
            "_view_module_version": "1.2.0",
            "_model_module": "@jupyter-widgets/controls"
          }
        },
        "a7d67d53ad7c43608bef432e41c77044": {
          "model_module": "@jupyter-widgets/base",
          "model_name": "LayoutModel",
          "state": {
            "_view_name": "LayoutView",
            "grid_template_rows": null,
            "right": null,
            "justify_content": null,
            "_view_module": "@jupyter-widgets/base",
            "overflow": null,
            "_model_module_version": "1.2.0",
            "_view_count": null,
            "flex_flow": null,
            "width": null,
            "min_width": null,
            "border": null,
            "align_items": null,
            "bottom": null,
            "_model_module": "@jupyter-widgets/base",
            "top": null,
            "grid_column": null,
            "overflow_y": null,
            "overflow_x": null,
            "grid_auto_flow": null,
            "grid_area": null,
            "grid_template_columns": null,
            "flex": null,
            "_model_name": "LayoutModel",
            "justify_items": null,
            "grid_row": null,
            "max_height": null,
            "align_content": null,
            "visibility": null,
            "align_self": null,
            "height": null,
            "min_height": null,
            "padding": null,
            "grid_auto_rows": null,
            "grid_gap": null,
            "max_width": null,
            "order": null,
            "_view_module_version": "1.2.0",
            "grid_template_areas": null,
            "object_position": null,
            "object_fit": null,
            "grid_auto_columns": null,
            "margin": null,
            "display": null,
            "left": null
          }
        }
      }
    }
  },
  "cells": [
    {
      "cell_type": "markdown",
      "metadata": {
        "id": "aYoauHFR7UmC"
      },
      "source": [
        "***Training: What We Do After The Forward Pass***\n",
        "\n",
        "\n",
        "![training_nn_dl.PNG](data:image/png;base64,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)"
      ]
    },
    {
      "cell_type": "code",
      "metadata": {
        "id": "0ihbByWd6wfe"
      },
      "source": [
        "import torch\n",
        "import torch.nn as nn\n",
        "import torch.nn.functional as F\n",
        "import torch.optim as optim\n",
        "\n",
        "import torchvision.transforms as transforms\n",
        "import torchvision as torchv"
      ],
      "execution_count": 1,
      "outputs": []
    },
    {
      "cell_type": "code",
      "metadata": {
        "colab": {
          "base_uri": "https://localhost:8080/",
          "height": 566,
          "referenced_widgets": [
            "6a7a50cb6f9d4f409737dc11e371b11e",
            "e26a9013d47b42bc99439e017de94bb0",
            "ade49bcf3d634fe2a7d1ba3264af3e20",
            "9ca1f650b1824baba935e9104f74f017",
            "b4fe0baafabd4e7187e60561413b6996",
            "afb8d8e9767a4b51bd00a81642ccdee5",
            "7450bb3e3cfd4f8e8fce22e7e877d1b7",
            "2e3e6461d31d4c57969c26392c1c5288",
            "8c9ed3190a2342909b97c1f230e198e6",
            "0ad917b6e90e460b991e1fd909c914e3",
            "495c669240c5401994c3b069fd54ded7",
            "fdd54d6dd86c4b09a20366e2ed4bd3f3",
            "cf92a7ac90854b2dbbffd33fc26342d6",
            "b23f4155cdb343a1ba8fa0228bb78a18",
            "f65817f96cb94053847ddbfc58143dc3",
            "a333987ad4594684b25cd6c94616f6f3",
            "04157194a9ce4b9aa3464f07175cc196",
            "42e530612ae845579dc7041a07dc73a6",
            "5ef6fa5bfec740a18e275691a9f1e84c",
            "f3e0117c76904f96b27411ec7dfeecbe",
            "40e319167ab74ebf9e3644c1aaca3ad1",
            "b63566c9e8a442c2aa7fdd501a2b198a",
            "e800af349bfc48208519882c1bf2efcb",
            "795fcb4471fc4dcc8f499473986c4b33",
            "d5667ed8dc8a4ab48d74b71e99d32f8b",
            "ea2709b85a7240ad84daa4ecb08b96d4",
            "d630470770f94c5b98fe2fd2b7bfee0f",
            "a0fda735e6e041fc8ba83a44a1c6c4bb",
            "64d12745d0c546e4b58923e3fa1b772f",
            "5ac9139a488643b8b0eba64f70512845",
            "1c27b19bf3fd4ac6a79e6ee6c31d2caf",
            "a7d67d53ad7c43608bef432e41c77044"
          ]
        },
        "id": "9uwh4iIS74ao",
        "outputId": "1815f4e8-f305-4d90-e657-1cf4de25f04f"
      },
      "source": [
        "train_ds = torchv.datasets.FashionMNIST(\n",
        "    root = '/content',\n",
        "    download = True,\n",
        "    train = True,\n",
        "    transform = transforms.Compose([\n",
        "          transforms.ToTensor()\n",
        "    ])\n",
        ")"
      ],
      "execution_count": 2,
      "outputs": [
        {
          "output_type": "stream",
          "text": [
            "Downloading http://fashion-mnist.s3-website.eu-central-1.amazonaws.com/train-images-idx3-ubyte.gz\n",
            "Downloading http://fashion-mnist.s3-website.eu-central-1.amazonaws.com/train-images-idx3-ubyte.gz to /content/FashionMNIST/raw/train-images-idx3-ubyte.gz\n"
          ],
          "name": "stdout"
        },
        {
          "output_type": "display_data",
          "data": {
            "application/vnd.jupyter.widget-view+json": {
              "model_id": "6a7a50cb6f9d4f409737dc11e371b11e",
              "version_minor": 0,
              "version_major": 2
            },
            "text/plain": [
              "HBox(children=(FloatProgress(value=0.0, max=26421880.0), HTML(value='')))"
            ]
          },
          "metadata": {
            "tags": []
          }
        },
        {
          "output_type": "stream",
          "text": [
            "\n",
            "Extracting /content/FashionMNIST/raw/train-images-idx3-ubyte.gz to /content/FashionMNIST/raw\n",
            "\n",
            "Downloading http://fashion-mnist.s3-website.eu-central-1.amazonaws.com/train-labels-idx1-ubyte.gz\n",
            "Downloading http://fashion-mnist.s3-website.eu-central-1.amazonaws.com/train-labels-idx1-ubyte.gz to /content/FashionMNIST/raw/train-labels-idx1-ubyte.gz\n"
          ],
          "name": "stdout"
        },
        {
          "output_type": "display_data",
          "data": {
            "application/vnd.jupyter.widget-view+json": {
              "model_id": "8c9ed3190a2342909b97c1f230e198e6",
              "version_minor": 0,
              "version_major": 2
            },
            "text/plain": [
              "HBox(children=(FloatProgress(value=0.0, max=29515.0), HTML(value='')))"
            ]
          },
          "metadata": {
            "tags": []
          }
        },
        {
          "output_type": "stream",
          "text": [
            "\n",
            "Extracting /content/FashionMNIST/raw/train-labels-idx1-ubyte.gz to /content/FashionMNIST/raw\n",
            "\n",
            "Downloading http://fashion-mnist.s3-website.eu-central-1.amazonaws.com/t10k-images-idx3-ubyte.gz\n",
            "Downloading http://fashion-mnist.s3-website.eu-central-1.amazonaws.com/t10k-images-idx3-ubyte.gz to /content/FashionMNIST/raw/t10k-images-idx3-ubyte.gz\n"
          ],
          "name": "stdout"
        },
        {
          "output_type": "display_data",
          "data": {
            "application/vnd.jupyter.widget-view+json": {
              "model_id": "04157194a9ce4b9aa3464f07175cc196",
              "version_minor": 0,
              "version_major": 2
            },
            "text/plain": [
              "HBox(children=(FloatProgress(value=0.0, max=4422102.0), HTML(value='')))"
            ]
          },
          "metadata": {
            "tags": []
          }
        },
        {
          "output_type": "stream",
          "text": [
            "\n",
            "Extracting /content/FashionMNIST/raw/t10k-images-idx3-ubyte.gz to /content/FashionMNIST/raw\n",
            "\n",
            "Downloading http://fashion-mnist.s3-website.eu-central-1.amazonaws.com/t10k-labels-idx1-ubyte.gz\n",
            "Downloading http://fashion-mnist.s3-website.eu-central-1.amazonaws.com/t10k-labels-idx1-ubyte.gz to /content/FashionMNIST/raw/t10k-labels-idx1-ubyte.gz\n"
          ],
          "name": "stdout"
        },
        {
          "output_type": "display_data",
          "data": {
            "application/vnd.jupyter.widget-view+json": {
              "model_id": "d5667ed8dc8a4ab48d74b71e99d32f8b",
              "version_minor": 0,
              "version_major": 2
            },
            "text/plain": [
              "HBox(children=(FloatProgress(value=0.0, max=5148.0), HTML(value='')))"
            ]
          },
          "metadata": {
            "tags": []
          }
        },
        {
          "output_type": "stream",
          "text": [
            "\n",
            "Extracting /content/FashionMNIST/raw/t10k-labels-idx1-ubyte.gz to /content/FashionMNIST/raw\n",
            "\n",
            "Processing...\n",
            "Done!\n"
          ],
          "name": "stdout"
        },
        {
          "output_type": "stream",
          "text": [
            "/usr/local/lib/python3.7/dist-packages/torchvision/datasets/mnist.py:502: UserWarning: The given NumPy array is not writeable, and PyTorch does not support non-writeable tensors. This means you can write to the underlying (supposedly non-writeable) NumPy array using the tensor. You may want to copy the array to protect its data or make it writeable before converting it to a tensor. This type of warning will be suppressed for the rest of this program. (Triggered internally at  /pytorch/torch/csrc/utils/tensor_numpy.cpp:143.)\n",
            "  return torch.from_numpy(parsed.astype(m[2], copy=False)).view(*s)\n"
          ],
          "name": "stderr"
        }
      ]
    },
    {
      "cell_type": "code",
      "metadata": {
        "colab": {
          "base_uri": "https://localhost:8080/"
        },
        "id": "j6Vy8n21FFd2",
        "outputId": "4715cf24-592d-4ef3-ca58-f3e990c660c4"
      },
      "source": [
        "len(train_ds)"
      ],
      "execution_count": 3,
      "outputs": [
        {
          "output_type": "execute_result",
          "data": {
            "text/plain": [
              "60000"
            ]
          },
          "metadata": {
            "tags": []
          },
          "execution_count": 3
        }
      ]
    },
    {
      "cell_type": "code",
      "metadata": {
        "colab": {
          "base_uri": "https://localhost:8080/"
        },
        "id": "tbIBmucHFN9q",
        "outputId": "461f5aa0-1d24-40c5-d3e1-34d3551ee5f6"
      },
      "source": [
        "60000/100"
      ],
      "execution_count": 4,
      "outputs": [
        {
          "output_type": "execute_result",
          "data": {
            "text/plain": [
              "600.0"
            ]
          },
          "metadata": {
            "tags": []
          },
          "execution_count": 4
        }
      ]
    },
    {
      "cell_type": "code",
      "metadata": {
        "id": "0PpLK7U59EFq"
      },
      "source": [
        "train_dataloader = torch.utils.data.DataLoader(train_ds,batch_size=100)\n",
        "#batch = next(iter(train_dataloader))\n",
        "#images,labels = batch"
      ],
      "execution_count": 5,
      "outputs": []
    },
    {
      "cell_type": "code",
      "metadata": {
        "id": "PnFB1W7P9v5o"
      },
      "source": [
        "class Network(nn.Module):\n",
        "  def __init__(self):\n",
        "    super().__init__()\n",
        "    self.conv1 = nn.Conv2d(in_channels=1,out_channels=6,kernel_size=5)\n",
        "    self.conv2 = nn.Conv2d(in_channels=6,out_channels=12,kernel_size=5)\n",
        "    self.fc1 = nn.Linear(in_features=12*4*4,out_features=120)\n",
        "    self.fc2 = nn.Linear(in_features=120,out_features=60)\n",
        "    self.out = nn.Linear(in_features=60,out_features=10)\n",
        "\n",
        "  def forward(self,t):\n",
        "    #1)input same\n",
        "    t = t\n",
        "\n",
        "    #2)conv2d \n",
        "    t = self.conv1(t)\n",
        "    t = F.relu(t)\n",
        "    t = F.max_pool2d(t,kernel_size=2,stride=2)\n",
        "\n",
        "    #3)conv2d \n",
        "    t = self.conv2(t)\n",
        "    t = F.relu(t)\n",
        "    t = F.max_pool2d(t,kernel_size=2,stride=2)\n",
        "\n",
        "    #4)Flatten \n",
        "    t = t.reshape(-1,12*4*4)\n",
        "\n",
        "    #5)fc1\n",
        "    t = self.fc1(t)\n",
        "    t = F.relu(t)\n",
        "\n",
        "    #6)fc2\n",
        "    t = self.fc2(t)\n",
        "    t = F.relu(t)\n",
        "\n",
        "    #5)output layer\n",
        "    t = self.out(t)\n",
        "\n",
        "    return t"
      ],
      "execution_count": 6,
      "outputs": []
    },
    {
      "cell_type": "code",
      "metadata": {
        "id": "KjlwcnEbCWKl"
      },
      "source": [
        "net = Network()"
      ],
      "execution_count": 7,
      "outputs": []
    },
    {
      "cell_type": "code",
      "metadata": {
        "id": "AR_49gHCEP81"
      },
      "source": [
        "optimizer = optim.Adam(net.parameters(),lr=0.01)"
      ],
      "execution_count": 8,
      "outputs": []
    },
    {
      "cell_type": "code",
      "metadata": {
        "id": "xpmBWgVhHxSx"
      },
      "source": [
        "batch = next(iter(train_dataloader))\n",
        "images,labels = batch"
      ],
      "execution_count": 9,
      "outputs": []
    },
    {
      "cell_type": "markdown",
      "metadata": {
        "id": "7OOJtE5kCZhn"
      },
      "source": [
        "# **Calculating Loss**"
      ]
    },
    {
      "cell_type": "code",
      "metadata": {
        "colab": {
          "base_uri": "https://localhost:8080/"
        },
        "id": "VDN0E3O-Cbdp",
        "outputId": "9f92756b-301b-42b8-9e3f-91aa4e4a5c84"
      },
      "source": [
        "for x in range(10):\n",
        "\n",
        "  pred = net(images)\n",
        "  loss = F.cross_entropy(pred,labels)\n",
        "  print(\"loss\",loss)\n",
        "  \n",
        "  loss.backward()\n",
        "  optimizer.step()"
      ],
      "execution_count": 14,
      "outputs": [
        {
          "output_type": "stream",
          "text": [
            "loss tensor(3.1225, grad_fn=<NllLossBackward>)\n",
            "loss tensor(3.1277, grad_fn=<NllLossBackward>)\n",
            "loss tensor(3.1329, grad_fn=<NllLossBackward>)\n",
            "loss tensor(3.1381, grad_fn=<NllLossBackward>)\n",
            "loss tensor(3.1432, grad_fn=<NllLossBackward>)\n",
            "loss tensor(3.1482, grad_fn=<NllLossBackward>)\n",
            "loss tensor(3.1533, grad_fn=<NllLossBackward>)\n",
            "loss tensor(3.1583, grad_fn=<NllLossBackward>)\n",
            "loss tensor(3.1632, grad_fn=<NllLossBackward>)\n",
            "loss tensor(3.1681, grad_fn=<NllLossBackward>)\n"
          ],
          "name": "stdout"
        }
      ]
    }
  ]
}