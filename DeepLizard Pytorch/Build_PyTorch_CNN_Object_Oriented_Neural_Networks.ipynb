{
  "nbformat": 4,
  "nbformat_minor": 0,
  "metadata": {
    "colab": {
      "name": "Build PyTorch CNN - Object Oriented Neural Networks.ipynb",
      "provenance": [],
      "collapsed_sections": []
    },
    "kernelspec": {
      "name": "python3",
      "display_name": "Python 3"
    },
    "language_info": {
      "name": "python"
    }
  },
  "cells": [
    {
      "cell_type": "code",
      "metadata": {
        "id": "Mm728kGWfPXN"
      },
      "source": [
        "import torch.nn as nn"
      ],
      "execution_count": 1,
      "outputs": []
    },
    {
      "cell_type": "code",
      "metadata": {
        "id": "TXcredCJgTla"
      },
      "source": [
        "class network(nn.Module): #gotta add nn.Module in the class argument to extend it.\n",
        "  def __init__(self): #to initialize the architecture layers and there types\n",
        "\n",
        "    super().__init__()  #Initialize the super __init__ funtion of the class to get all the delicious inheritance benifites. \n",
        "\n",
        "    self.conv1 = nn.Conv2d(in_channels=1,out_channels=6,kernel_size=3)\n",
        "    self.conv2 = nn.Conv2d(in_channels=6,out_channels=12,kernel_size=3)\n",
        "\n",
        "    self.fc1 = nn.Linear(in_features=12*4*4,out_features=120)\n",
        "    self.fc2 = nn.Linear(in_features=120,out_features=60)\n",
        "\n",
        "    self.out = nn.Linear(in_features=60,out_features=10)\n",
        "  \n",
        "  def forward(self,t):  \n",
        "    return t\n"
      ],
      "execution_count": 3,
      "outputs": []
    }
  ]
}