{
  "nbformat": 4,
  "nbformat_minor": 0,
  "metadata": {
    "colab": {
      "name": "CNN Forward Method.ipynb",
      "provenance": [],
      "collapsed_sections": []
    },
    "kernelspec": {
      "name": "python3",
      "display_name": "Python 3"
    },
    "language_info": {
      "name": "python"
    }
  },
  "cells": [
    {
      "cell_type": "code",
      "metadata": {
        "id": "PLhUqwiNG2C4"
      },
      "source": [
        "import torch.nn as nn"
      ],
      "execution_count": 1,
      "outputs": []
    },
    {
      "cell_type": "code",
      "metadata": {
        "id": "vfya6FQQKmYy"
      },
      "source": [
        "import torch"
      ],
      "execution_count": 4,
      "outputs": []
    },
    {
      "cell_type": "code",
      "metadata": {
        "id": "k0I9DXnBI7wE"
      },
      "source": [
        "import torch.nn.functional as F"
      ],
      "execution_count": 3,
      "outputs": []
    },
    {
      "cell_type": "code",
      "metadata": {
        "id": "g8gtIPg4Oi97"
      },
      "source": [
        "t1 = torch.rand((28,28)).unsqueeze(dim=0).unsqueeze(dim=0)  #sample tensor for experimenting the forward function"
      ],
      "execution_count": 41,
      "outputs": []
    },
    {
      "cell_type": "code",
      "metadata": {
        "colab": {
          "base_uri": "https://localhost:8080/"
        },
        "id": "F0KJZq0FOqWt",
        "outputId": "7feafe76-e04b-4076-e7dc-d8fa9b8e960b"
      },
      "source": [
        "t1.shape"
      ],
      "execution_count": 39,
      "outputs": [
        {
          "output_type": "execute_result",
          "data": {
            "text/plain": [
              "torch.Size([1, 28, 28])"
            ]
          },
          "metadata": {
            "tags": []
          },
          "execution_count": 39
        }
      ]
    },
    {
      "cell_type": "code",
      "metadata": {
        "id": "rSIFxOgXG9ub"
      },
      "source": [
        "class Network(nn.Module):\n",
        "  def __init__(self):\n",
        "    super().__init__()\n",
        "    self.conv1 = nn.Conv2d(in_channels=1,out_channels=6,kernel_size=5)\n",
        "    self.conv2 = nn.Conv2d(in_channels=6,out_channels=12,kernel_size=5)\n",
        "\n",
        "    self.fc1 = nn.Linear(in_features=12*4*4,out_features=120)\n",
        "    self.fc2 = nn.Linear(in_features=120,out_features=60)\n",
        "\n",
        "    self.out = nn.Linear(in_features=60,out_features=10)\n",
        "\n",
        "\n",
        "  def forward(self,t):\n",
        "    #1) input layer\n",
        "    t=t\n",
        "\n",
        "    #2) conv1 layer\n",
        "    t = self.conv1(t)\n",
        "    t = F.relu(t)\n",
        "    t = F.max_pool2d(t,kernel_size=2,stride=2)\n",
        "\n",
        "    #3) conv2 layer\n",
        "    t = self.conv2(t)\n",
        "    t = F.relu(t)\n",
        "    t = F.max_pool2d(t,kernel_size=2,stride=2)\n",
        "\n",
        "    #4) Flatten the output of conv2\n",
        "    #t = t.reshape(-1,12*4*4)\n",
        "    t = torch.flatten(t)\n",
        "\n",
        "    #5) Fc1 layer\n",
        "    t = self.fc1(t)\n",
        "    t = F.relu(t)\n",
        "\n",
        "    #6) Fc2 layer\n",
        "    t = self.fc2(t)\n",
        "    t = F.relu(t)\n",
        "\n",
        "    #7) Output layer\n",
        "    t = self.out(t)\n",
        "    #t = F.softmax(t) as softmax is aslo there when we use catigorical crossentropy loss\n",
        "    return t\n"
      ],
      "execution_count": 47,
      "outputs": []
    },
    {
      "cell_type": "code",
      "metadata": {
        "id": "c7RvzZD6Oxf5"
      },
      "source": [
        "net = Network()\n",
        "t2 = net.forward(t1)"
      ],
      "execution_count": 48,
      "outputs": []
    },
    {
      "cell_type": "code",
      "metadata": {
        "colab": {
          "base_uri": "https://localhost:8080/"
        },
        "id": "M1xT8e3qQ0Fi",
        "outputId": "5ffa2290-fe90-454d-8747-6ccba9056958"
      },
      "source": [
        "t2.shape"
      ],
      "execution_count": 49,
      "outputs": [
        {
          "output_type": "execute_result",
          "data": {
            "text/plain": [
              "torch.Size([10])"
            ]
          },
          "metadata": {
            "tags": []
          },
          "execution_count": 49
        }
      ]
    },
    {
      "cell_type": "code",
      "metadata": {
        "colab": {
          "base_uri": "https://localhost:8080/"
        },
        "id": "lKAeFrVPRXOF",
        "outputId": "c5305c1d-02da-4974-a093-145a20f84fa9"
      },
      "source": [
        "print(t2)"
      ],
      "execution_count": 50,
      "outputs": [
        {
          "output_type": "stream",
          "text": [
            "tensor([ 0.0901, -0.0520, -0.0560,  0.0088,  0.0587, -0.1073, -0.0228, -0.1376,\n",
            "        -0.1750,  0.0770], grad_fn=<AddBackward0>)\n"
          ],
          "name": "stdout"
        }
      ]
    }
  ]
}