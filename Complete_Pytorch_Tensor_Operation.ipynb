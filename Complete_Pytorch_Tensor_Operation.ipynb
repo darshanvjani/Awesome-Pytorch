{
  "nbformat": 4,
  "nbformat_minor": 0,
  "metadata": {
    "colab": {
      "name": "Complete Pytorch Tensor Operation",
      "provenance": [],
      "collapsed_sections": [],
      "authorship_tag": "ABX9TyOh3l3eyuQaLu0wTeBebcEX",
      "include_colab_link": true
    },
    "kernelspec": {
      "name": "python3",
      "display_name": "Python 3"
    },
    "language_info": {
      "name": "python"
    }
  },
  "cells": [
    {
      "cell_type": "markdown",
      "metadata": {
        "id": "view-in-github",
        "colab_type": "text"
      },
      "source": [
        "<a href=\"https://colab.research.google.com/github/darshanvjani/Awesome-Pytorch/blob/main/Complete_Pytorch_Tensor_Operation.ipynb\" target=\"_parent\"><img src=\"https://colab.research.google.com/assets/colab-badge.svg\" alt=\"Open In Colab\"/></a>"
      ]
    },
    {
      "cell_type": "code",
      "metadata": {
        "id": "QZsZCCkNxUjh"
      },
      "source": [
        "import torch"
      ],
      "execution_count": 1,
      "outputs": []
    },
    {
      "cell_type": "code",
      "metadata": {
        "id": "IaJWGnqCxf0E"
      },
      "source": [
        "my_tensor = torch.tensor([[1,2,3],[4,5,6]])"
      ],
      "execution_count": 2,
      "outputs": []
    },
    {
      "cell_type": "code",
      "metadata": {
        "colab": {
          "base_uri": "https://localhost:8080/"
        },
        "id": "3crBJzWgyPuY",
        "outputId": "aae120fc-cfea-4aee-d479-656eb4c6c948"
      },
      "source": [
        "print(my_tensor)"
      ],
      "execution_count": 3,
      "outputs": [
        {
          "output_type": "stream",
          "text": [
            "tensor([[1, 2, 3],\n",
            "        [4, 5, 6]])\n"
          ],
          "name": "stdout"
        }
      ]
    },
    {
      "cell_type": "markdown",
      "metadata": {
        "id": "3-bueGP2yVbm"
      },
      "source": [
        "We can set the type of the tensor as well."
      ]
    },
    {
      "cell_type": "code",
      "metadata": {
        "colab": {
          "base_uri": "https://localhost:8080/"
        },
        "id": "4iLHUOd8yS9k",
        "outputId": "3e5aa930-36af-4ad9-8dca-3b051107f1e9"
      },
      "source": [
        "torch.tensor([[1,2,3],[4,5,6]],dtype=torch.float32)"
      ],
      "execution_count": 4,
      "outputs": [
        {
          "output_type": "execute_result",
          "data": {
            "text/plain": [
              "tensor([[1., 2., 3.],\n",
              "        [4., 5., 6.]])"
            ]
          },
          "metadata": {
            "tags": []
          },
          "execution_count": 4
        }
      ]
    },
    {
      "cell_type": "markdown",
      "metadata": {
        "id": "mupwLbvp2Fr8"
      },
      "source": [
        "We can set where this value will be on."
      ]
    },
    {
      "cell_type": "code",
      "metadata": {
        "colab": {
          "base_uri": "https://localhost:8080/"
        },
        "id": "VHVzbKjP2Lhb",
        "outputId": "73ab1c80-da3e-4c07-fa9e-b4816915aa6a"
      },
      "source": [
        "torch.tensor([[1,2,3],[4,5,6]],dtype=torch.float32,device=\"cpu\")"
      ],
      "execution_count": 5,
      "outputs": [
        {
          "output_type": "execute_result",
          "data": {
            "text/plain": [
              "tensor([[1., 2., 3.],\n",
              "        [4., 5., 6.]])"
            ]
          },
          "metadata": {
            "tags": []
          },
          "execution_count": 5
        }
      ]
    },
    {
      "cell_type": "markdown",
      "metadata": {
        "id": "fvTEyjQK2dZn"
      },
      "source": [
        "we can add requires gradient as well which can br used while backprop."
      ]
    },
    {
      "cell_type": "code",
      "metadata": {
        "colab": {
          "base_uri": "https://localhost:8080/"
        },
        "id": "vIHObV0r2Xco",
        "outputId": "ccd48c09-e4cc-400b-fc5c-66a92fcf2474"
      },
      "source": [
        "torch.tensor([[1,2,3],[4,5,6]],dtype=torch.float32,device=\"cpu\",requires_grad=True)"
      ],
      "execution_count": 6,
      "outputs": [
        {
          "output_type": "execute_result",
          "data": {
            "text/plain": [
              "tensor([[1., 2., 3.],\n",
              "        [4., 5., 6.]], requires_grad=True)"
            ]
          },
          "metadata": {
            "tags": []
          },
          "execution_count": 6
        }
      ]
    },
    {
      "cell_type": "markdown",
      "metadata": {
        "id": "UTXebhhy24gW"
      },
      "source": [
        "we can write it as this as well to make the cpu/gpu memory allocation automatic."
      ]
    },
    {
      "cell_type": "code",
      "metadata": {
        "id": "jcYCYclT2qng"
      },
      "source": [
        "device = \"cuda\" if torch.cuda.is_available() else \"cpu\"\n",
        "my_tensor = torch.tensor([[1,2,3],[4,5,6]],dtype=torch.float32,device=device,requires_grad=True)"
      ],
      "execution_count": 7,
      "outputs": []
    },
    {
      "cell_type": "code",
      "metadata": {
        "colab": {
          "base_uri": "https://localhost:8080/"
        },
        "id": "2PijrySS3PUR",
        "outputId": "b4599de2-e1c3-46ca-f5a6-7347ad5b04fb"
      },
      "source": [
        "print(my_tensor)\n",
        "print(my_tensor.dtype)\n",
        "print(my_tensor.device)\n",
        "print(my_tensor.shape)\n",
        "print(my_tensor.requires_grad)"
      ],
      "execution_count": 8,
      "outputs": [
        {
          "output_type": "stream",
          "text": [
            "tensor([[1., 2., 3.],\n",
            "        [4., 5., 6.]], requires_grad=True)\n",
            "torch.float32\n",
            "cpu\n",
            "torch.Size([2, 3])\n",
            "True\n"
          ],
          "name": "stdout"
        }
      ]
    },
    {
      "cell_type": "markdown",
      "metadata": {
        "id": "9jUmKBlQ8Qpu"
      },
      "source": [
        "Other Innitialization Methods"
      ]
    },
    {
      "cell_type": "code",
      "metadata": {
        "colab": {
          "base_uri": "https://localhost:8080/"
        },
        "id": "otfcuy_d8CA5",
        "outputId": "fc27689c-32db-4731-c723-3792227d3973"
      },
      "source": [
        "x = torch.empty(size=(3,3))\n",
        "print(x)"
      ],
      "execution_count": 9,
      "outputs": [
        {
          "output_type": "stream",
          "text": [
            "tensor([[1.8492e+15, 3.0746e-41, 3.3631e-44],\n",
            "        [0.0000e+00,        nan, 1.4013e-45],\n",
            "        [1.1578e+27, 1.1362e+30, 7.1547e+22]])\n"
          ],
          "name": "stdout"
        }
      ]
    },
    {
      "cell_type": "code",
      "metadata": {
        "colab": {
          "base_uri": "https://localhost:8080/"
        },
        "id": "MJJRYGEH8V4q",
        "outputId": "5c4c1317-e848-4833-b98c-0e7ce41cd5c2"
      },
      "source": [
        "#For Zero Matrix\n",
        "x = torch.zeros((3,3))\n",
        "print(x)"
      ],
      "execution_count": 10,
      "outputs": [
        {
          "output_type": "stream",
          "text": [
            "tensor([[0., 0., 0.],\n",
            "        [0., 0., 0.],\n",
            "        [0., 0., 0.]])\n"
          ],
          "name": "stdout"
        }
      ]
    },
    {
      "cell_type": "markdown",
      "metadata": {
        "id": "SaQ9w46g8zKt"
      },
      "source": [
        "to initialize values with uniform distribution randomly"
      ]
    },
    {
      "cell_type": "code",
      "metadata": {
        "colab": {
          "base_uri": "https://localhost:8080/"
        },
        "id": "rNs12WHd842F",
        "outputId": "1f11c3e0-5d93-493c-f6e5-51833dfd31c4"
      },
      "source": [
        "x = torch.rand((3,3))\n",
        "print(x)"
      ],
      "execution_count": 11,
      "outputs": [
        {
          "output_type": "stream",
          "text": [
            "tensor([[0.2499, 0.3792, 0.8804],\n",
            "        [0.0703, 0.8967, 0.2718],\n",
            "        [0.7674, 0.1197, 0.1843]])\n"
          ],
          "name": "stdout"
        }
      ]
    },
    {
      "cell_type": "markdown",
      "metadata": {
        "id": "Nws6cmat9DPd"
      },
      "source": [
        "to initialize value with all the ones"
      ]
    },
    {
      "cell_type": "code",
      "metadata": {
        "colab": {
          "base_uri": "https://localhost:8080/"
        },
        "id": "si9iQYyj9GC6",
        "outputId": "11efa2a0-ddb1-42a6-be54-55791f3e1cdf"
      },
      "source": [
        "x = torch.ones((3,3))\n",
        "print(x)"
      ],
      "execution_count": 12,
      "outputs": [
        {
          "output_type": "stream",
          "text": [
            "tensor([[1., 1., 1.],\n",
            "        [1., 1., 1.],\n",
            "        [1., 1., 1.]])\n"
          ],
          "name": "stdout"
        }
      ]
    },
    {
      "cell_type": "markdown",
      "metadata": {
        "id": "m5ajHcql9MBy"
      },
      "source": [
        "to initilize identity matrix"
      ]
    },
    {
      "cell_type": "code",
      "metadata": {
        "colab": {
          "base_uri": "https://localhost:8080/"
        },
        "id": "lbZJXwfE9QM1",
        "outputId": "030d8ff4-cedc-4096-9bed-0485558d2d9b"
      },
      "source": [
        "torch.eye(5,5)"
      ],
      "execution_count": 13,
      "outputs": [
        {
          "output_type": "execute_result",
          "data": {
            "text/plain": [
              "tensor([[1., 0., 0., 0., 0.],\n",
              "        [0., 1., 0., 0., 0.],\n",
              "        [0., 0., 1., 0., 0.],\n",
              "        [0., 0., 0., 1., 0.],\n",
              "        [0., 0., 0., 0., 1.]])"
            ]
          },
          "metadata": {
            "tags": []
          },
          "execution_count": 13
        }
      ]
    },
    {
      "cell_type": "code",
      "metadata": {
        "colab": {
          "base_uri": "https://localhost:8080/"
        },
        "id": "i1Cuh7Ah-lJE",
        "outputId": "3b6c512e-ba6f-4c67-8ac8-3d557755e68e"
      },
      "source": [
        "torch.arange(start=0,end=5,step=1)"
      ],
      "execution_count": 14,
      "outputs": [
        {
          "output_type": "execute_result",
          "data": {
            "text/plain": [
              "tensor([0, 1, 2, 3, 4])"
            ]
          },
          "metadata": {
            "tags": []
          },
          "execution_count": 14
        }
      ]
    },
    {
      "cell_type": "code",
      "metadata": {
        "colab": {
          "base_uri": "https://localhost:8080/"
        },
        "id": "rCKaKcaj-1Eh",
        "outputId": "bf7d3bad-0009-4242-c004-47c01cfa8f1d"
      },
      "source": [
        "torch.linspace(start=0.1,end=1,steps=10)"
      ],
      "execution_count": 15,
      "outputs": [
        {
          "output_type": "execute_result",
          "data": {
            "text/plain": [
              "tensor([0.1000, 0.2000, 0.3000, 0.4000, 0.5000, 0.6000, 0.7000, 0.8000, 0.9000,\n",
              "        1.0000])"
            ]
          },
          "metadata": {
            "tags": []
          },
          "execution_count": 15
        }
      ]
    },
    {
      "cell_type": "code",
      "metadata": {
        "colab": {
          "base_uri": "https://localhost:8080/"
        },
        "id": "QxrofeCb_Tiy",
        "outputId": "d94238e7-8320-43a6-e7ba-1a24ffb4ccb3"
      },
      "source": [
        "torch.empty((1,5)).normal_(mean=0,std=1)"
      ],
      "execution_count": 16,
      "outputs": [
        {
          "output_type": "execute_result",
          "data": {
            "text/plain": [
              "tensor([[ 0.4924, -0.8769, -0.8223,  0.4643,  0.9484]])"
            ]
          },
          "metadata": {
            "tags": []
          },
          "execution_count": 16
        }
      ]
    },
    {
      "cell_type": "markdown",
      "metadata": {
        "id": "MWhdVOwY9XG_"
      },
      "source": [
        "**How to Initialize and convert tensor into different **"
      ]
    },
    {
      "cell_type": "code",
      "metadata": {
        "id": "38htpv4k9KqZ"
      },
      "source": [
        "tensor = torch.tensor([[1,2,3],[4,5,6]])"
      ],
      "execution_count": 17,
      "outputs": []
    },
    {
      "cell_type": "code",
      "metadata": {
        "colab": {
          "base_uri": "https://localhost:8080/"
        },
        "id": "7-EmIM9W-2sD",
        "outputId": "1e5b03c6-7cea-4d26-c8fd-262f273cb1d2"
      },
      "source": [
        "print(tensor) \n",
        "print(tensor.short()) #int16\n",
        "print(tensor.long())  #int64\n",
        "print(tensor.half())  #float16\n",
        "print(tensor.float()) #float32\n",
        "print(tensor.double())  #float64"
      ],
      "execution_count": 18,
      "outputs": [
        {
          "output_type": "stream",
          "text": [
            "tensor([[1, 2, 3],\n",
            "        [4, 5, 6]])\n",
            "tensor([[1, 2, 3],\n",
            "        [4, 5, 6]], dtype=torch.int16)\n",
            "tensor([[1, 2, 3],\n",
            "        [4, 5, 6]])\n",
            "tensor([[1., 2., 3.],\n",
            "        [4., 5., 6.]], dtype=torch.float16)\n",
            "tensor([[1., 2., 3.],\n",
            "        [4., 5., 6.]])\n",
            "tensor([[1., 2., 3.],\n",
            "        [4., 5., 6.]], dtype=torch.float64)\n"
          ],
          "name": "stdout"
        }
      ]
    },
    {
      "cell_type": "code",
      "metadata": {
        "colab": {
          "base_uri": "https://localhost:8080/"
        },
        "id": "gLh5NhArAC1e",
        "outputId": "fe338b28-9458-4c39-f837-544fe2afe6a0"
      },
      "source": [
        "tensor.data_ptr() == tensor.long().data_ptr() #tensor.long() is the same as tensor (both are int 64)"
      ],
      "execution_count": 19,
      "outputs": [
        {
          "output_type": "execute_result",
          "data": {
            "text/plain": [
              "True"
            ]
          },
          "metadata": {
            "tags": []
          },
          "execution_count": 19
        }
      ]
    },
    {
      "cell_type": "markdown",
      "metadata": {
        "id": "-asQrEEOBZWI"
      },
      "source": [
        "**Conversation between tensor and Numpy Array**\n",
        "\n"
      ]
    },
    {
      "cell_type": "code",
      "metadata": {
        "id": "s2SceeDAA0Le"
      },
      "source": [
        "#From Numpy to Tensor\n",
        "import numpy as np\n",
        "array = np.zeros((5,5))\n",
        "tensor_t = torch.from_numpy(array)"
      ],
      "execution_count": 20,
      "outputs": []
    },
    {
      "cell_type": "code",
      "metadata": {
        "id": "cyXKgsEbDA2c"
      },
      "source": [
        "#From Tensor to Numpy\n",
        "numpy_array_back = tensor_t.numpy()"
      ],
      "execution_count": 21,
      "outputs": []
    },
    {
      "cell_type": "markdown",
      "metadata": {
        "id": "LAvOxF5xDXp9"
      },
      "source": [
        "**Tensor Math & Comperazion Operation**\n",
        "\n",
        "works only if the shape of both the tensor is same"
      ]
    },
    {
      "cell_type": "code",
      "metadata": {
        "id": "KROibT2KEWuE"
      },
      "source": [
        "x = torch.tensor([[1,2,3]])\n",
        "y = torch.tensor([[3,2,1]])"
      ],
      "execution_count": 22,
      "outputs": []
    },
    {
      "cell_type": "code",
      "metadata": {
        "colab": {
          "base_uri": "https://localhost:8080/"
        },
        "id": "qaW-ExmxEqhJ",
        "outputId": "ccdad45d-a41c-4c80-99ea-085154f76b89"
      },
      "source": [
        "z = x + y\n",
        "print(z)"
      ],
      "execution_count": 23,
      "outputs": [
        {
          "output_type": "stream",
          "text": [
            "tensor([[4, 4, 4]])\n"
          ],
          "name": "stdout"
        }
      ]
    },
    {
      "cell_type": "code",
      "metadata": {
        "colab": {
          "base_uri": "https://localhost:8080/"
        },
        "id": "zKbMrIyxEusA",
        "outputId": "28893bd7-9c8b-40a9-a849-988c949d7a60"
      },
      "source": [
        "z = x - y\n",
        "print(z)"
      ],
      "execution_count": 24,
      "outputs": [
        {
          "output_type": "stream",
          "text": [
            "tensor([[-2,  0,  2]])\n"
          ],
          "name": "stdout"
        }
      ]
    },
    {
      "cell_type": "code",
      "metadata": {
        "colab": {
          "base_uri": "https://localhost:8080/"
        },
        "id": "OHsnSaU7ExWD",
        "outputId": "85c02394-bdad-424f-c75a-e304262c8e1e"
      },
      "source": [
        "z = torch.true_divide(x,y)\n",
        "print(z)"
      ],
      "execution_count": 25,
      "outputs": [
        {
          "output_type": "stream",
          "text": [
            "tensor([[0.3333, 1.0000, 3.0000]])\n"
          ],
          "name": "stdout"
        }
      ]
    },
    {
      "cell_type": "markdown",
      "metadata": {
        "id": "Jn_bTWyTv1vU"
      },
      "source": [
        "Adding Inplace"
      ]
    },
    {
      "cell_type": "code",
      "metadata": {
        "colab": {
          "base_uri": "https://localhost:8080/"
        },
        "id": "nv2cfaXSFA78",
        "outputId": "934ce20d-59ec-49f5-d718-19d12e37d912"
      },
      "source": [
        "tensor_t = torch.rand((1,3))\n",
        "print(tensor_t)\n",
        "tensor_t.add_(x)\n",
        "print(tensor_t)\n",
        "###you can also used this to keep the pointer same\n",
        "tensor_t+=x"
      ],
      "execution_count": 26,
      "outputs": [
        {
          "output_type": "stream",
          "text": [
            "tensor([[0.8572, 0.1059, 0.7057]])\n",
            "tensor([[1.8572, 2.1059, 3.7057]])\n"
          ],
          "name": "stdout"
        }
      ]
    },
    {
      "cell_type": "code",
      "metadata": {
        "id": "BXzkV-byyf3z"
      },
      "source": [
        "x = torch.rand((1,3))"
      ],
      "execution_count": 27,
      "outputs": []
    },
    {
      "cell_type": "markdown",
      "metadata": {
        "id": "sv5EqDoxxrP_"
      },
      "source": [
        "Element wise Exponential"
      ]
    },
    {
      "cell_type": "code",
      "metadata": {
        "colab": {
          "base_uri": "https://localhost:8080/"
        },
        "id": "PVjClmgiw4qs",
        "outputId": "7dea4f21-f2b5-4717-9055-98a3b113af49"
      },
      "source": [
        "x.pow_(3) #keeping the pointer same\n",
        "x\n",
        "x = x ** 3 #copy\n",
        "x"
      ],
      "execution_count": 28,
      "outputs": [
        {
          "output_type": "execute_result",
          "data": {
            "text/plain": [
              "tensor([[1.6087e-07, 4.7938e-06, 4.4273e-01]])"
            ]
          },
          "metadata": {
            "tags": []
          },
          "execution_count": 28
        }
      ]
    },
    {
      "cell_type": "markdown",
      "metadata": {
        "id": "NMwcT0SQyn8G"
      },
      "source": [
        "Matrix Multiplication"
      ]
    },
    {
      "cell_type": "code",
      "metadata": {
        "colab": {
          "base_uri": "https://localhost:8080/"
        },
        "id": "fsu3Q5tjynAG",
        "outputId": "c8aecfd6-0b2f-4be7-d934-74813d0f216d"
      },
      "source": [
        "t1 = torch.rand((1,3))\n",
        "t2 = torch.rand((3,5))\n",
        "print(torch.mm(t1,t2))"
      ],
      "execution_count": 29,
      "outputs": [
        {
          "output_type": "stream",
          "text": [
            "tensor([[0.6777, 0.5457, 0.8486, 0.5578, 0.6357]])\n"
          ],
          "name": "stdout"
        }
      ]
    },
    {
      "cell_type": "markdown",
      "metadata": {
        "id": "5p0i_-N92_lX"
      },
      "source": [
        "Matrix Power"
      ]
    },
    {
      "cell_type": "code",
      "metadata": {
        "colab": {
          "base_uri": "https://localhost:8080/"
        },
        "id": "92Vz0UlD2xuY",
        "outputId": "d67e141a-c7e8-4a7f-b05c-8005616452b0"
      },
      "source": [
        "t1 = torch.tensor([[1,2],[2,1]],dtype=float)\n",
        "# t2 = torch.rand((1,3))\n",
        "print(t1)\n",
        "t1 = t1.mm(t1)\n",
        "print(t1)"
      ],
      "execution_count": 30,
      "outputs": [
        {
          "output_type": "stream",
          "text": [
            "tensor([[1., 2.],\n",
            "        [2., 1.]], dtype=torch.float64)\n",
            "tensor([[5., 4.],\n",
            "        [4., 5.]], dtype=torch.float64)\n"
          ],
          "name": "stdout"
        }
      ]
    },
    {
      "cell_type": "markdown",
      "metadata": {
        "id": "0FYUFVI44na6"
      },
      "source": [
        "Element Wise Multiplication & Dot Product\n",
        "\n"
      ]
    },
    {
      "cell_type": "code",
      "metadata": {
        "colab": {
          "base_uri": "https://localhost:8080/"
        },
        "id": "Scwv-DcK4I6i",
        "outputId": "36e41205-0ecf-474e-d87b-1cb4f097adc0"
      },
      "source": [
        "#Both the tensor has to have same shape for doing element wise mul\n",
        "x = torch.tensor([1,2,3])\n",
        "y = torch.tensor([1,2,3])\n",
        "z = x * y\n",
        "print(z)"
      ],
      "execution_count": 31,
      "outputs": [
        {
          "output_type": "stream",
          "text": [
            "tensor([1, 4, 9])\n"
          ],
          "name": "stdout"
        }
      ]
    },
    {
      "cell_type": "code",
      "metadata": {
        "colab": {
          "base_uri": "https://localhost:8080/"
        },
        "id": "TyOLA5zz7NUn",
        "outputId": "67fabd55-7900-4455-b11e-f95f2b62b397"
      },
      "source": [
        "#Dot\n",
        "z = x.dot(y)\n",
        "z"
      ],
      "execution_count": 32,
      "outputs": [
        {
          "output_type": "execute_result",
          "data": {
            "text/plain": [
              "tensor(14)"
            ]
          },
          "metadata": {
            "tags": []
          },
          "execution_count": 32
        }
      ]
    },
    {
      "cell_type": "markdown",
      "metadata": {
        "id": "HhVPPhb77W2H"
      },
      "source": [
        "Batch Wise Multiplication"
      ]
    },
    {
      "cell_type": "code",
      "metadata": {
        "colab": {
          "base_uri": "https://localhost:8080/"
        },
        "id": "PDfe5Czz7WNK",
        "outputId": "f38a3ddf-4b28-4771-ca79-68809eb5b94e"
      },
      "source": [
        "batch = 32\n",
        "n = 10\n",
        "m = 20\n",
        "p = 30\n",
        "x = torch.rand((batch,n,m))\n",
        "y = torch.rand((batch,m,p))\n",
        "z = torch.bmm(x,y)\n",
        "print(z.shape) ##shape (batch,n,p)"
      ],
      "execution_count": 33,
      "outputs": [
        {
          "output_type": "stream",
          "text": [
            "torch.Size([32, 10, 30])\n"
          ],
          "name": "stdout"
        }
      ]
    },
    {
      "cell_type": "markdown",
      "metadata": {
        "id": "JWnPtKJy8xzH"
      },
      "source": [
        "Math Operations"
      ]
    },
    {
      "cell_type": "code",
      "metadata": {
        "colab": {
          "base_uri": "https://localhost:8080/"
        },
        "id": "G_u_JR9P82Rj",
        "outputId": "4fd762d4-eef0-48f2-a3f8-0d88d660149a"
      },
      "source": [
        "x = torch.tensor([[1,2,3],[4,5,6]])\n",
        "print(\"X:\",x)\n",
        "print()\n",
        "print(\"X_sum:\",x.sum(dim=1))\n",
        "print()\n",
        "print(\"X_max:\",x.max(dim=1))\n",
        "print()\n",
        "print(\"X_min\",x.min(dim=0))\n",
        "print()\n",
        "print(\"Abs Value:\",x.abs())"
      ],
      "execution_count": 34,
      "outputs": [
        {
          "output_type": "stream",
          "text": [
            "X: tensor([[1, 2, 3],\n",
            "        [4, 5, 6]])\n",
            "\n",
            "X_sum: tensor([ 6, 15])\n",
            "\n",
            "X_max: torch.return_types.max(\n",
            "values=tensor([3, 6]),\n",
            "indices=tensor([2, 2]))\n",
            "\n",
            "X_min torch.return_types.min(\n",
            "values=tensor([1, 2, 3]),\n",
            "indices=tensor([0, 0, 0]))\n",
            "\n",
            "Abs Value: tensor([[1, 2, 3],\n",
            "        [4, 5, 6]])\n"
          ],
          "name": "stdout"
        }
      ]
    },
    {
      "cell_type": "code",
      "metadata": {
        "colab": {
          "base_uri": "https://localhost:8080/"
        },
        "id": "i8r1bsbTMY2P",
        "outputId": "00191f57-49e2-4868-e6e4-490911f7c523"
      },
      "source": [
        "print(x.argmax(dim=0))  #colomn\n",
        "print(x.argmin(dim=1))   #row"
      ],
      "execution_count": 35,
      "outputs": [
        {
          "output_type": "stream",
          "text": [
            "tensor([1, 1, 1])\n",
            "tensor([0, 0])\n"
          ],
          "name": "stdout"
        }
      ]
    },
    {
      "cell_type": "code",
      "metadata": {
        "colab": {
          "base_uri": "https://localhost:8080/"
        },
        "id": "cg1SgQ2VMzeA",
        "outputId": "3ad267b8-e6ca-4c75-d40d-abc073b3a10f"
      },
      "source": [
        "y = torch.tensor([[1,2,3],[4,5,7]])\n",
        "print(x.eq(y)) #check if elements of x is equal to y"
      ],
      "execution_count": 36,
      "outputs": [
        {
          "output_type": "stream",
          "text": [
            "tensor([[ True,  True,  True],\n",
            "        [ True,  True, False]])\n"
          ],
          "name": "stdout"
        }
      ]
    },
    {
      "cell_type": "code",
      "metadata": {
        "colab": {
          "base_uri": "https://localhost:8080/"
        },
        "id": "4RJOefGeE2eT",
        "outputId": "fb574735-bf66-4b49-e438-c0258f480065"
      },
      "source": [
        "x.shape #2 rows , 3 colomns , dim=0 -> colomn wise, dim=1 -> row wise"
      ],
      "execution_count": 37,
      "outputs": [
        {
          "output_type": "execute_result",
          "data": {
            "text/plain": [
              "torch.Size([2, 3])"
            ]
          },
          "metadata": {
            "tags": []
          },
          "execution_count": 37
        }
      ]
    },
    {
      "cell_type": "code",
      "metadata": {
        "colab": {
          "base_uri": "https://localhost:8080/"
        },
        "id": "N-0FlXnNOYpd",
        "outputId": "f92194b7-ff6d-4f39-e41f-abe91679689b"
      },
      "source": [
        "y[0,1] = 8\n",
        "y"
      ],
      "execution_count": 38,
      "outputs": [
        {
          "output_type": "execute_result",
          "data": {
            "text/plain": [
              "tensor([[1, 8, 3],\n",
              "        [4, 5, 7]])"
            ]
          },
          "metadata": {
            "tags": []
          },
          "execution_count": 38
        }
      ]
    },
    {
      "cell_type": "code",
      "metadata": {
        "colab": {
          "base_uri": "https://localhost:8080/"
        },
        "id": "48FvFKgFPQZR",
        "outputId": "b9e2993d-c63b-4ebe-9ac2-c4eeddbefacc"
      },
      "source": [
        "print(y.sort(dim=1,descending=False)) #dim 0 -> colomn wise , dim = 1 -> row wise"
      ],
      "execution_count": 39,
      "outputs": [
        {
          "output_type": "stream",
          "text": [
            "torch.return_types.sort(\n",
            "values=tensor([[1, 3, 8],\n",
            "        [4, 5, 7]]),\n",
            "indices=tensor([[0, 2, 1],\n",
            "        [0, 1, 2]]))\n"
          ],
          "name": "stdout"
        }
      ]
    },
    {
      "cell_type": "code",
      "metadata": {
        "colab": {
          "base_uri": "https://localhost:8080/"
        },
        "id": "jDvtwocAPKx0",
        "outputId": "4074ca2d-2b94-4985-9dac-b455b949dc89"
      },
      "source": [
        "print(y.clamp(min=1,max=5)) #clamp all the value which are less then 1 -> 1, and all the values which are greater then 5 -> 5"
      ],
      "execution_count": 40,
      "outputs": [
        {
          "output_type": "stream",
          "text": [
            "tensor([[1, 5, 3],\n",
            "        [4, 5, 5]])\n"
          ],
          "name": "stdout"
        }
      ]
    },
    {
      "cell_type": "code",
      "metadata": {
        "colab": {
          "base_uri": "https://localhost:8080/"
        },
        "id": "W040WWS9Q8EX",
        "outputId": "b87b40cd-3776-4a07-8ac1-5590ee4e8663"
      },
      "source": [
        "bool_t = torch.tensor([1,0,1,1,1],dtype=bool)\n",
        "print(bool_t.any()) #check if any value is positive\n",
        "print(bool_t.all())  #check if all value is positive"
      ],
      "execution_count": 41,
      "outputs": [
        {
          "output_type": "stream",
          "text": [
            "tensor(True)\n",
            "tensor(False)\n"
          ],
          "name": "stdout"
        }
      ]
    },
    {
      "cell_type": "markdown",
      "metadata": {
        "id": "d7yT3OCKRWvL"
      },
      "source": [
        "  Tensor Indexing"
      ]
    },
    {
      "cell_type": "code",
      "metadata": {
        "colab": {
          "base_uri": "https://localhost:8080/"
        },
        "id": "WmNzA3LSVXwy",
        "outputId": "b6be99a4-3edf-4f2b-a8b7-ac774f859a07"
      },
      "source": [
        "batch_size = 10\n",
        "r = 3\n",
        "c = 4\n",
        "ten = torch.rand((batch_size,r,c),dtype=float)\n",
        "print(ten[0,:]) #first element of the batch"
      ],
      "execution_count": 42,
      "outputs": [
        {
          "output_type": "stream",
          "text": [
            "tensor([[0.0718, 0.0577, 0.7301, 0.5408],\n",
            "        [0.3237, 0.1180, 0.4876, 0.7995],\n",
            "        [0.2852, 0.5456, 0.7156, 0.2359]], dtype=torch.float64)\n"
          ],
          "name": "stdout"
        }
      ]
    },
    {
      "cell_type": "code",
      "metadata": {
        "colab": {
          "base_uri": "https://localhost:8080/"
        },
        "id": "vBUFH8PXV5gV",
        "outputId": "ec8d5006-7d4c-4a17-f9d7-e3dc023369a7"
      },
      "source": [
        "print(ten[:,0])"
      ],
      "execution_count": 43,
      "outputs": [
        {
          "output_type": "stream",
          "text": [
            "tensor([[0.0718, 0.0577, 0.7301, 0.5408],\n",
            "        [0.4888, 0.3297, 0.9110, 0.5790],\n",
            "        [0.2206, 0.1253, 0.9380, 0.2229],\n",
            "        [0.6641, 0.8720, 0.4705, 0.9800],\n",
            "        [0.2389, 0.2396, 0.3543, 0.1141],\n",
            "        [0.6308, 0.2651, 0.2008, 0.2300],\n",
            "        [0.2878, 0.1549, 0.9870, 0.4000],\n",
            "        [0.5205, 0.6863, 0.0027, 0.9905],\n",
            "        [0.2092, 0.1701, 0.8879, 0.3783],\n",
            "        [0.2699, 0.0611, 0.3604, 0.9102]], dtype=torch.float64)\n"
          ],
          "name": "stdout"
        }
      ]
    },
    {
      "cell_type": "code",
      "metadata": {
        "colab": {
          "base_uri": "https://localhost:8080/"
        },
        "id": "CN5ny3U8WSeC",
        "outputId": "e61b53ca-ff3e-496d-b457-48f5d0610c47"
      },
      "source": [
        "ten[3,:2,:3]"
      ],
      "execution_count": 44,
      "outputs": [
        {
          "output_type": "execute_result",
          "data": {
            "text/plain": [
              "tensor([[0.6641, 0.8720, 0.4705],\n",
              "        [0.5332, 0.2010, 0.5299]], dtype=torch.float64)"
            ]
          },
          "metadata": {
            "tags": []
          },
          "execution_count": 44
        }
      ]
    },
    {
      "cell_type": "code",
      "metadata": {
        "colab": {
          "base_uri": "https://localhost:8080/"
        },
        "id": "a1ZiYEC3Zii9",
        "outputId": "c268a764-ec95-4487-d494-8261c2ff6a44"
      },
      "source": [
        "##Fancy Indexing\n",
        "indexing = [1,2]\n",
        "print(ten[indexing].shape)"
      ],
      "execution_count": 45,
      "outputs": [
        {
          "output_type": "stream",
          "text": [
            "torch.Size([2, 3, 4])\n"
          ],
          "name": "stdout"
        }
      ]
    },
    {
      "cell_type": "code",
      "metadata": {
        "colab": {
          "base_uri": "https://localhost:8080/"
        },
        "id": "DpAyYOuTagcX",
        "outputId": "5272ea3a-228f-49bf-9df1-617192368aad"
      },
      "source": [
        "##Advance Index Operation\n",
        "x = torch.tensor([[1,2,4,6,8,9,0],[1,2,4,6,8,9,0]])\n",
        "print(x[(x >= 2) & (x <= 6)]) #elements which are greater then 2 or less then 6\n",
        "print(x[x==8]) #elements which are exactly 8\n",
        "print(x[x!=8])\n",
        "print(x[x.remainder(2)==0]) #to get odd/even numbers"
      ],
      "execution_count": 46,
      "outputs": [
        {
          "output_type": "stream",
          "text": [
            "tensor([2, 4, 6, 2, 4, 6])\n",
            "tensor([8, 8])\n",
            "tensor([1, 2, 4, 6, 9, 0, 1, 2, 4, 6, 9, 0])\n",
            "tensor([2, 4, 6, 8, 0, 2, 4, 6, 8, 0])\n"
          ],
          "name": "stdout"
        }
      ]
    },
    {
      "cell_type": "code",
      "metadata": {
        "colab": {
          "base_uri": "https://localhost:8080/"
        },
        "id": "MIzHjUuReOPW",
        "outputId": "600f9795-d660-45b7-b687-ec3ff143ce65"
      },
      "source": [
        "#Some USEFULL Operation\n",
        "print(torch.where(x>5,x,1)) #if X>5 -> x else -> 1"
      ],
      "execution_count": 47,
      "outputs": [
        {
          "output_type": "stream",
          "text": [
            "tensor([[1, 1, 1, 6, 8, 9, 1],\n",
            "        [1, 1, 1, 6, 8, 9, 1]])\n"
          ],
          "name": "stdout"
        }
      ]
    },
    {
      "cell_type": "code",
      "metadata": {
        "colab": {
          "base_uri": "https://localhost:8080/"
        },
        "id": "Gt8gA4jmfVrW",
        "outputId": "442965e4-7960-4494-da0c-93e4c809a282"
      },
      "source": [
        "#to check the unique number of elements in tensor\n",
        "print(torch.tensor([1,1,2,3,1,4,5,67,3,6]).unique())"
      ],
      "execution_count": 48,
      "outputs": [
        {
          "output_type": "stream",
          "text": [
            "tensor([ 1,  2,  3,  4,  5,  6, 67])\n"
          ],
          "name": "stdout"
        }
      ]
    },
    {
      "cell_type": "code",
      "metadata": {
        "colab": {
          "base_uri": "https://localhost:8080/"
        },
        "id": "iKlW-v1dPbbr",
        "outputId": "8c8bd363-f371-436e-f2ff-11b97d860eea"
      },
      "source": [
        "#to check the total number of elements in the tensor\n",
        "print(torch.tensor([[1,1,2,3,1,4,5,67,3,6],[1,2,3,4,5,6,7,8,90,1]]).numel())"
      ],
      "execution_count": 50,
      "outputs": [
        {
          "output_type": "stream",
          "text": [
            "20\n"
          ],
          "name": "stdout"
        }
      ]
    },
    {
      "cell_type": "code",
      "metadata": {
        "colab": {
          "base_uri": "https://localhost:8080/"
        },
        "id": "AuzzEdniPv0g",
        "outputId": "ba2e3baa-5690-43ac-fa6c-1985d6467eab"
      },
      "source": [
        "#to find the total dimension of the tensor\n",
        "print(torch.tensor([[1,2,3],[4,5,6],[7,8,9]]).ndimension())"
      ],
      "execution_count": 51,
      "outputs": [
        {
          "output_type": "stream",
          "text": [
            "2\n"
          ],
          "name": "stdout"
        }
      ]
    },
    {
      "cell_type": "markdown",
      "metadata": {
        "id": "WwWhZ6OsV36H"
      },
      "source": [
        "**Tensor Reshaping**"
      ]
    },
    {
      "cell_type": "markdown",
      "metadata": {
        "id": "SfVEsYVfZ6cS"
      },
      "source": [
        "reshape"
      ]
    },
    {
      "cell_type": "code",
      "metadata": {
        "colab": {
          "base_uri": "https://localhost:8080/"
        },
        "id": "14ONUZxVV9xO",
        "outputId": "28575cf5-3c8b-4f1b-a40d-d05676e7d8d6"
      },
      "source": [
        "x = torch.arange(10)\n",
        "x.shape"
      ],
      "execution_count": 54,
      "outputs": [
        {
          "output_type": "execute_result",
          "data": {
            "text/plain": [
              "torch.Size([10])"
            ]
          },
          "metadata": {
            "tags": []
          },
          "execution_count": 54
        }
      ]
    },
    {
      "cell_type": "code",
      "metadata": {
        "colab": {
          "base_uri": "https://localhost:8080/"
        },
        "id": "q6RICvNiWFuq",
        "outputId": "e4a0212e-d18d-4e44-e31a-3a57538e42fe"
      },
      "source": [
        "x_1x10 = x.reshape(1,10)\n",
        "x_1x10.shape"
      ],
      "execution_count": 57,
      "outputs": [
        {
          "output_type": "execute_result",
          "data": {
            "text/plain": [
              "torch.Size([1, 10])"
            ]
          },
          "metadata": {
            "tags": []
          },
          "execution_count": 57
        }
      ]
    },
    {
      "cell_type": "code",
      "metadata": {
        "colab": {
          "base_uri": "https://localhost:8080/"
        },
        "id": "aZns3zm7ZeUz",
        "outputId": "cffcfc5c-0896-4cdc-ac92-5e6776829d12"
      },
      "source": [
        "x = torch.arange(9)\n",
        "x.shape"
      ],
      "execution_count": 89,
      "outputs": [
        {
          "output_type": "execute_result",
          "data": {
            "text/plain": [
              "torch.Size([9])"
            ]
          },
          "metadata": {
            "tags": []
          },
          "execution_count": 89
        }
      ]
    },
    {
      "cell_type": "code",
      "metadata": {
        "colab": {
          "base_uri": "https://localhost:8080/"
        },
        "id": "hGeysEHMZghl",
        "outputId": "7eb49bfa-f5c5-4ee8-a182-57c8a5f07aeb"
      },
      "source": [
        "x_3x3 = x.reshape(3,3)\n",
        "x.data_ptr() == x_3x3.data_ptr()"
      ],
      "execution_count": 90,
      "outputs": [
        {
          "output_type": "execute_result",
          "data": {
            "text/plain": [
              "True"
            ]
          },
          "metadata": {
            "tags": []
          },
          "execution_count": 90
        }
      ]
    },
    {
      "cell_type": "code",
      "metadata": {
        "colab": {
          "base_uri": "https://localhost:8080/"
        },
        "id": "LaBdG9oQZrBk",
        "outputId": "64c1c79c-d055-47bd-a768-b6a3583448e3"
      },
      "source": [
        ""
      ],
      "execution_count": 91,
      "outputs": [
        {
          "output_type": "execute_result",
          "data": {
            "text/plain": [
              "tensor([[0, 1, 2],\n",
              "        [3, 4, 5],\n",
              "        [6, 7, 8]])"
            ]
          },
          "metadata": {
            "tags": []
          },
          "execution_count": 91
        }
      ]
    },
    {
      "cell_type": "code",
      "metadata": {
        "colab": {
          "base_uri": "https://localhost:8080/"
        },
        "id": "p1PSAODuZ1nz",
        "outputId": "8412b8d7-b84b-4632-b8fb-5f768a2ded42"
      },
      "source": [
        "#transpose\n",
        "x_3x3 = x_3x3.t()\n",
        "x.data_ptr() == x_3x3.data_ptr()"
      ],
      "execution_count": 92,
      "outputs": [
        {
          "output_type": "execute_result",
          "data": {
            "text/plain": [
              "True"
            ]
          },
          "metadata": {
            "tags": []
          },
          "execution_count": 92
        }
      ]
    },
    {
      "cell_type": "markdown",
      "metadata": {
        "id": "2pADw1XkZ8wl"
      },
      "source": [
        "view"
      ]
    },
    {
      "cell_type": "code",
      "metadata": {
        "colab": {
          "base_uri": "https://localhost:8080/"
        },
        "id": "cvM5bkg2Z_CP",
        "outputId": "d1d76174-b2d4-457c-a84e-f00c02ef587a"
      },
      "source": [
        "x = torch.arange(9)\n",
        "x.shape"
      ],
      "execution_count": 93,
      "outputs": [
        {
          "output_type": "execute_result",
          "data": {
            "text/plain": [
              "torch.Size([9])"
            ]
          },
          "metadata": {
            "tags": []
          },
          "execution_count": 93
        }
      ]
    },
    {
      "cell_type": "code",
      "metadata": {
        "colab": {
          "base_uri": "https://localhost:8080/"
        },
        "id": "ODQM2mpDbyNl",
        "outputId": "5065359e-459e-45a4-b345-426f8525301c"
      },
      "source": [
        "x"
      ],
      "execution_count": 94,
      "outputs": [
        {
          "output_type": "execute_result",
          "data": {
            "text/plain": [
              "tensor([0, 1, 2, 3, 4, 5, 6, 7, 8])"
            ]
          },
          "metadata": {
            "tags": []
          },
          "execution_count": 94
        }
      ]
    },
    {
      "cell_type": "code",
      "metadata": {
        "colab": {
          "base_uri": "https://localhost:8080/"
        },
        "id": "cAghuFRZaCrL",
        "outputId": "3a3154ad-cae5-4948-e98a-6d7860e7276e"
      },
      "source": [
        "x_3x3 = x.view(3,3)\n",
        "x.data_ptr() == x_3x3.data_ptr()"
      ],
      "execution_count": 95,
      "outputs": [
        {
          "output_type": "execute_result",
          "data": {
            "text/plain": [
              "True"
            ]
          },
          "metadata": {
            "tags": []
          },
          "execution_count": 95
        }
      ]
    },
    {
      "cell_type": "code",
      "metadata": {
        "colab": {
          "base_uri": "https://localhost:8080/"
        },
        "id": "q7UauxgFaLYw",
        "outputId": "991c5690-6fa8-4f1d-c262-af1d817f4e86"
      },
      "source": [
        "x_3x3"
      ],
      "execution_count": 96,
      "outputs": [
        {
          "output_type": "execute_result",
          "data": {
            "text/plain": [
              "tensor([[0, 1, 2],\n",
              "        [3, 4, 5],\n",
              "        [6, 7, 8]])"
            ]
          },
          "metadata": {
            "tags": []
          },
          "execution_count": 96
        }
      ]
    },
    {
      "cell_type": "code",
      "metadata": {
        "id": "9WxQ8i7TaM3C"
      },
      "source": [
        "x_3x3 = x_3x3.t()"
      ],
      "execution_count": 97,
      "outputs": []
    },
    {
      "cell_type": "code",
      "metadata": {
        "colab": {
          "base_uri": "https://localhost:8080/"
        },
        "id": "3UKimlwmaXiz",
        "outputId": "eaf62f7f-5717-4a55-a52f-8af1cf9a74aa"
      },
      "source": [
        "x.data_ptr() == x_3x3.data_ptr()"
      ],
      "execution_count": 104,
      "outputs": [
        {
          "output_type": "execute_result",
          "data": {
            "text/plain": [
              "False"
            ]
          },
          "metadata": {
            "tags": []
          },
          "execution_count": 104
        }
      ]
    },
    {
      "cell_type": "code",
      "metadata": {
        "colab": {
          "base_uri": "https://localhost:8080/",
          "height": 178
        },
        "id": "VOv_jTM1dQzi",
        "outputId": "612355c5-608a-46bb-ab22-f8e3194aa108"
      },
      "source": [
        "x_3x3.view(9) #problem while using view"
      ],
      "execution_count": 99,
      "outputs": [
        {
          "output_type": "error",
          "ename": "RuntimeError",
          "evalue": "ignored",
          "traceback": [
            "\u001b[0;31m---------------------------------------------------------------------------\u001b[0m",
            "\u001b[0;31mRuntimeError\u001b[0m                              Traceback (most recent call last)",
            "\u001b[0;32m<ipython-input-99-bd086e0310a1>\u001b[0m in \u001b[0;36m<module>\u001b[0;34m()\u001b[0m\n\u001b[0;32m----> 1\u001b[0;31m \u001b[0mx_3x3\u001b[0m\u001b[0;34m.\u001b[0m\u001b[0mview\u001b[0m\u001b[0;34m(\u001b[0m\u001b[0;36m9\u001b[0m\u001b[0;34m)\u001b[0m\u001b[0;34m\u001b[0m\u001b[0;34m\u001b[0m\u001b[0m\n\u001b[0m",
            "\u001b[0;31mRuntimeError\u001b[0m: view size is not compatible with input tensor's size and stride (at least one dimension spans across two contiguous subspaces). Use .reshape(...) instead."
          ]
        }
      ]
    },
    {
      "cell_type": "code",
      "metadata": {
        "colab": {
          "base_uri": "https://localhost:8080/"
        },
        "id": "N_Tvow_4daxR",
        "outputId": "b75d2d04-ba26-4b49-a7a7-360518ab7d53"
      },
      "source": [
        "x_3x3.contiguous().view(9) #you can solve it by using contiguous or use reshape to be on the safe side"
      ],
      "execution_count": 100,
      "outputs": [
        {
          "output_type": "execute_result",
          "data": {
            "text/plain": [
              "tensor([0, 3, 6, 1, 4, 7, 2, 5, 8])"
            ]
          },
          "metadata": {
            "tags": []
          },
          "execution_count": 100
        }
      ]
    },
    {
      "cell_type": "code",
      "metadata": {
        "colab": {
          "base_uri": "https://localhost:8080/"
        },
        "id": "jGuAhcB2dmSy",
        "outputId": "f6a5c198-eaa3-438a-fb7d-f0cfe3490c83"
      },
      "source": [
        "x = torch.rand((2,3))\n",
        "y = torch.rand((2,3))\n",
        "z = torch.cat((x,y),dim=0) #dim=0 -> row wise\n",
        "q = torch.cat((x,y),dim=1) #dim=1 -> colomn wise\n",
        "print(z)\n",
        "print(q)"
      ],
      "execution_count": 103,
      "outputs": [
        {
          "output_type": "stream",
          "text": [
            "tensor([[0.6905, 0.4606, 0.9696],\n",
            "        [0.8167, 0.5710, 0.9757],\n",
            "        [0.0558, 0.4207, 0.4283],\n",
            "        [0.4934, 0.4952, 0.9301]])\n",
            "tensor([[0.6905, 0.4606, 0.9696, 0.0558, 0.4207, 0.4283],\n",
            "        [0.8167, 0.5710, 0.9757, 0.4934, 0.4952, 0.9301]])\n"
          ],
          "name": "stdout"
        }
      ]
    },
    {
      "cell_type": "code",
      "metadata": {
        "colab": {
          "base_uri": "https://localhost:8080/"
        },
        "id": "YQsPqHOleoWF",
        "outputId": "0478e0f0-b95f-4af3-f600-daebb9f0aa05"
      },
      "source": [
        "batch = 64\n",
        "x = torch.rand(batch,5,10)\n",
        "x.shape"
      ],
      "execution_count": 113,
      "outputs": [
        {
          "output_type": "execute_result",
          "data": {
            "text/plain": [
              "torch.Size([64, 5, 10])"
            ]
          },
          "metadata": {
            "tags": []
          },
          "execution_count": 113
        }
      ]
    },
    {
      "cell_type": "code",
      "metadata": {
        "colab": {
          "base_uri": "https://localhost:8080/"
        },
        "id": "xLJnmzvMfCmf",
        "outputId": "ba040358-c959-4915-9dd3-32b2b6890d55"
      },
      "source": [
        "z = x.reshape(batch,10,-1)\n",
        "z.shape"
      ],
      "execution_count": 115,
      "outputs": [
        {
          "output_type": "execute_result",
          "data": {
            "text/plain": [
              "torch.Size([64, 10, 5])"
            ]
          },
          "metadata": {
            "tags": []
          },
          "execution_count": 115
        }
      ]
    },
    {
      "cell_type": "code",
      "metadata": {
        "colab": {
          "base_uri": "https://localhost:8080/"
        },
        "id": "_0UT4Zj7fyrk",
        "outputId": "e660e334-b032-4b1d-f7f3-c4882b282238"
      },
      "source": [
        "z = x.reshape(batch,-1)\n",
        "z.shape"
      ],
      "execution_count": 116,
      "outputs": [
        {
          "output_type": "execute_result",
          "data": {
            "text/plain": [
              "torch.Size([64, 50])"
            ]
          },
          "metadata": {
            "tags": []
          },
          "execution_count": 116
        }
      ]
    },
    {
      "cell_type": "code",
      "metadata": {
        "colab": {
          "base_uri": "https://localhost:8080/"
        },
        "id": "Lnghzr1Gf1F2",
        "outputId": "38a2c4b8-9fa9-4a62-9396-d214c6c76081"
      },
      "source": [
        "z = x.permute(1,0,2)\n",
        "z.shape"
      ],
      "execution_count": 117,
      "outputs": [
        {
          "output_type": "execute_result",
          "data": {
            "text/plain": [
              "torch.Size([5, 64, 10])"
            ]
          },
          "metadata": {
            "tags": []
          },
          "execution_count": 117
        }
      ]
    },
    {
      "cell_type": "markdown",
      "metadata": {
        "id": "qH4j02IngCER"
      },
      "source": [
        "Unsqueeze & Squeeze Operation"
      ]
    },
    {
      "cell_type": "code",
      "metadata": {
        "colab": {
          "base_uri": "https://localhost:8080/"
        },
        "id": "g_zuuyi9gBRD",
        "outputId": "db22c377-c0cc-4134-ab97-e5333da28f17"
      },
      "source": [
        "x = torch.arange(10)  #1 dim ,0 index\n",
        "z = x.unsqueeze(1)  #unsquuze on 2nd dim or 1 index\n",
        "z.shape"
      ],
      "execution_count": 126,
      "outputs": [
        {
          "output_type": "execute_result",
          "data": {
            "text/plain": [
              "torch.Size([10, 1])"
            ]
          },
          "metadata": {
            "tags": []
          },
          "execution_count": 126
        }
      ]
    },
    {
      "cell_type": "code",
      "metadata": {
        "colab": {
          "base_uri": "https://localhost:8080/"
        },
        "id": "-4s7Vp94hmcx",
        "outputId": "2fe1d5a6-1ba2-4146-cff3-8671192d3095"
      },
      "source": [
        "z"
      ],
      "execution_count": 127,
      "outputs": [
        {
          "output_type": "execute_result",
          "data": {
            "text/plain": [
              "tensor([[0],\n",
              "        [1],\n",
              "        [2],\n",
              "        [3],\n",
              "        [4],\n",
              "        [5],\n",
              "        [6],\n",
              "        [7],\n",
              "        [8],\n",
              "        [9]])"
            ]
          },
          "metadata": {
            "tags": []
          },
          "execution_count": 127
        }
      ]
    },
    {
      "cell_type": "code",
      "metadata": {
        "colab": {
          "base_uri": "https://localhost:8080/"
        },
        "id": "n-EqpHU-hjyQ",
        "outputId": "6fd8ef0f-747f-4d3f-ae99-25849b915dc7"
      },
      "source": [
        "x.shape"
      ],
      "execution_count": 128,
      "outputs": [
        {
          "output_type": "execute_result",
          "data": {
            "text/plain": [
              "tensor([0, 1, 2, 3, 4, 5, 6, 7, 8, 9])"
            ]
          },
          "metadata": {
            "tags": []
          },
          "execution_count": 128
        }
      ]
    },
    {
      "cell_type": "code",
      "metadata": {
        "colab": {
          "base_uri": "https://localhost:8080/"
        },
        "id": "X2AOuGpsh4hL",
        "outputId": "08312a6e-c602-4c9d-f664-67e44108e0aa"
      },
      "source": [
        "z = z.squeeze(1)\n",
        "z"
      ],
      "execution_count": 131,
      "outputs": [
        {
          "output_type": "execute_result",
          "data": {
            "text/plain": [
              "tensor([0, 1, 2, 3, 4, 5, 6, 7, 8, 9])"
            ]
          },
          "metadata": {
            "tags": []
          },
          "execution_count": 131
        }
      ]
    }
  ]
}