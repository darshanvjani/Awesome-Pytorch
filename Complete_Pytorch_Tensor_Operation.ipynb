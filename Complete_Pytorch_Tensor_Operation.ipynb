{
  "nbformat": 4,
  "nbformat_minor": 0,
  "metadata": {
    "colab": {
      "name": "Complete Pytorch Tensor Operation",
      "provenance": [],
      "collapsed_sections": [],
      "authorship_tag": "ABX9TyPZdXTBPwyucJ8agWQMM7z0",
      "include_colab_link": true
    },
    "kernelspec": {
      "name": "python3",
      "display_name": "Python 3"
    },
    "language_info": {
      "name": "python"
    }
  },
  "cells": [
    {
      "cell_type": "markdown",
      "metadata": {
        "id": "view-in-github",
        "colab_type": "text"
      },
      "source": [
        "<a href=\"https://colab.research.google.com/github/darshanvjani/Awesome-Pytorch/blob/main/Complete_Pytorch_Tensor_Operation.ipynb\" target=\"_parent\"><img src=\"https://colab.research.google.com/assets/colab-badge.svg\" alt=\"Open In Colab\"/></a>"
      ]
    },
    {
      "cell_type": "code",
      "metadata": {
        "id": "QZsZCCkNxUjh"
      },
      "source": [
        "import torch"
      ],
      "execution_count": 4,
      "outputs": []
    },
    {
      "cell_type": "code",
      "metadata": {
        "id": "IaJWGnqCxf0E"
      },
      "source": [
        "my_tensor = torch.tensor([[1,2,3],[4,5,6]])"
      ],
      "execution_count": 5,
      "outputs": []
    },
    {
      "cell_type": "code",
      "metadata": {
        "colab": {
          "base_uri": "https://localhost:8080/"
        },
        "id": "3crBJzWgyPuY",
        "outputId": "4cb6c5d4-ec96-41d5-c6db-0c13a1b67fb4"
      },
      "source": [
        "print(my_tensor)"
      ],
      "execution_count": 6,
      "outputs": [
        {
          "output_type": "stream",
          "text": [
            "tensor([[1, 2, 3],\n",
            "        [4, 5, 6]])\n"
          ],
          "name": "stdout"
        }
      ]
    },
    {
      "cell_type": "markdown",
      "metadata": {
        "id": "3-bueGP2yVbm"
      },
      "source": [
        "We can set the type of the tensor as well."
      ]
    },
    {
      "cell_type": "code",
      "metadata": {
        "colab": {
          "base_uri": "https://localhost:8080/"
        },
        "id": "4iLHUOd8yS9k",
        "outputId": "6aecbc53-5a86-4042-8d87-b13c11b07f1e"
      },
      "source": [
        "torch.tensor([[1,2,3],[4,5,6]],dtype=torch.float32)"
      ],
      "execution_count": 7,
      "outputs": [
        {
          "output_type": "execute_result",
          "data": {
            "text/plain": [
              "tensor([[1., 2., 3.],\n",
              "        [4., 5., 6.]])"
            ]
          },
          "metadata": {
            "tags": []
          },
          "execution_count": 7
        }
      ]
    },
    {
      "cell_type": "markdown",
      "metadata": {
        "id": "mupwLbvp2Fr8"
      },
      "source": [
        "We can set where this value will be on."
      ]
    },
    {
      "cell_type": "code",
      "metadata": {
        "colab": {
          "base_uri": "https://localhost:8080/"
        },
        "id": "VHVzbKjP2Lhb",
        "outputId": "230c403c-68c2-42e9-8fa7-124c8f7467af"
      },
      "source": [
        "torch.tensor([[1,2,3],[4,5,6]],dtype=torch.float32,device=\"cpu\")"
      ],
      "execution_count": 8,
      "outputs": [
        {
          "output_type": "execute_result",
          "data": {
            "text/plain": [
              "tensor([[1., 2., 3.],\n",
              "        [4., 5., 6.]])"
            ]
          },
          "metadata": {
            "tags": []
          },
          "execution_count": 8
        }
      ]
    },
    {
      "cell_type": "markdown",
      "metadata": {
        "id": "fvTEyjQK2dZn"
      },
      "source": [
        "we can add requires gradient as well which can br used while backprop."
      ]
    },
    {
      "cell_type": "code",
      "metadata": {
        "colab": {
          "base_uri": "https://localhost:8080/"
        },
        "id": "vIHObV0r2Xco",
        "outputId": "1f34e2c8-6716-4b49-cddb-e9042dca41b1"
      },
      "source": [
        "torch.tensor([[1,2,3],[4,5,6]],dtype=torch.float32,device=\"cpu\",requires_grad=True)"
      ],
      "execution_count": 9,
      "outputs": [
        {
          "output_type": "execute_result",
          "data": {
            "text/plain": [
              "tensor([[1., 2., 3.],\n",
              "        [4., 5., 6.]], requires_grad=True)"
            ]
          },
          "metadata": {
            "tags": []
          },
          "execution_count": 9
        }
      ]
    },
    {
      "cell_type": "markdown",
      "metadata": {
        "id": "UTXebhhy24gW"
      },
      "source": [
        "we can write it as this as well to make the cpu/gpu memory allocation automatic."
      ]
    },
    {
      "cell_type": "code",
      "metadata": {
        "id": "jcYCYclT2qng"
      },
      "source": [
        "device = \"cuda\" if torch.cuda.is_available() else \"cpu\"\n",
        "my_tensor = torch.tensor([[1,2,3],[4,5,6]],dtype=torch.float32,device=device,requires_grad=True)"
      ],
      "execution_count": 10,
      "outputs": []
    },
    {
      "cell_type": "code",
      "metadata": {
        "colab": {
          "base_uri": "https://localhost:8080/"
        },
        "id": "2PijrySS3PUR",
        "outputId": "a7ef25f3-75aa-4bd9-8f46-4134b6aa9da4"
      },
      "source": [
        "print(my_tensor)\n",
        "print(my_tensor.dtype)\n",
        "print(my_tensor.device)\n",
        "print(my_tensor.shape)\n",
        "print(my_tensor.requires_grad)"
      ],
      "execution_count": 11,
      "outputs": [
        {
          "output_type": "stream",
          "text": [
            "tensor([[1., 2., 3.],\n",
            "        [4., 5., 6.]], requires_grad=True)\n",
            "torch.float32\n",
            "cpu\n",
            "torch.Size([2, 3])\n",
            "True\n"
          ],
          "name": "stdout"
        }
      ]
    },
    {
      "cell_type": "markdown",
      "metadata": {
        "id": "9jUmKBlQ8Qpu"
      },
      "source": [
        "Other Innitialization Methods"
      ]
    },
    {
      "cell_type": "code",
      "metadata": {
        "colab": {
          "base_uri": "https://localhost:8080/"
        },
        "id": "otfcuy_d8CA5",
        "outputId": "a84ff62c-8e76-4b10-f98a-38844b37431a"
      },
      "source": [
        "x = torch.empty(size=(3,3))\n",
        "print(x)"
      ],
      "execution_count": 12,
      "outputs": [
        {
          "output_type": "stream",
          "text": [
            "tensor([[-1.3403e-26,  3.0771e-41,  3.3631e-44],\n",
            "        [ 0.0000e+00,         nan,  1.4013e-45],\n",
            "        [ 1.1578e+27,  1.1362e+30,  7.1547e+22]])\n"
          ],
          "name": "stdout"
        }
      ]
    },
    {
      "cell_type": "code",
      "metadata": {
        "colab": {
          "base_uri": "https://localhost:8080/"
        },
        "id": "MJJRYGEH8V4q",
        "outputId": "b48ad1fa-bbf6-45af-aeef-cbc0c07170ce"
      },
      "source": [
        "#For Zero Matrix\n",
        "x = torch.zeros((3,3))\n",
        "print(x)"
      ],
      "execution_count": 13,
      "outputs": [
        {
          "output_type": "stream",
          "text": [
            "tensor([[0., 0., 0.],\n",
            "        [0., 0., 0.],\n",
            "        [0., 0., 0.]])\n"
          ],
          "name": "stdout"
        }
      ]
    },
    {
      "cell_type": "markdown",
      "metadata": {
        "id": "SaQ9w46g8zKt"
      },
      "source": [
        "to initialize values with uniform distribution randomly"
      ]
    },
    {
      "cell_type": "code",
      "metadata": {
        "colab": {
          "base_uri": "https://localhost:8080/"
        },
        "id": "rNs12WHd842F",
        "outputId": "ab09a78f-3b16-4681-a851-015b3f179d36"
      },
      "source": [
        "x = torch.rand((3,3))\n",
        "print(x)"
      ],
      "execution_count": 14,
      "outputs": [
        {
          "output_type": "stream",
          "text": [
            "tensor([[0.8301, 0.6753, 0.6753],\n",
            "        [0.2676, 0.9026, 0.1829],\n",
            "        [0.2190, 0.4427, 0.6417]])\n"
          ],
          "name": "stdout"
        }
      ]
    },
    {
      "cell_type": "markdown",
      "metadata": {
        "id": "Nws6cmat9DPd"
      },
      "source": [
        "to initialize value with all the ones"
      ]
    },
    {
      "cell_type": "code",
      "metadata": {
        "colab": {
          "base_uri": "https://localhost:8080/"
        },
        "id": "si9iQYyj9GC6",
        "outputId": "e1fcd92a-72d5-4fde-9bc4-72d732ee356f"
      },
      "source": [
        "x = torch.ones((3,3))\n",
        "print(x)"
      ],
      "execution_count": 15,
      "outputs": [
        {
          "output_type": "stream",
          "text": [
            "tensor([[1., 1., 1.],\n",
            "        [1., 1., 1.],\n",
            "        [1., 1., 1.]])\n"
          ],
          "name": "stdout"
        }
      ]
    },
    {
      "cell_type": "markdown",
      "metadata": {
        "id": "m5ajHcql9MBy"
      },
      "source": [
        "to initilize identity matrix"
      ]
    },
    {
      "cell_type": "code",
      "metadata": {
        "colab": {
          "base_uri": "https://localhost:8080/"
        },
        "id": "lbZJXwfE9QM1",
        "outputId": "684682c5-095d-4045-dd84-aff35fd5813f"
      },
      "source": [
        "torch.eye(5,5)"
      ],
      "execution_count": 16,
      "outputs": [
        {
          "output_type": "execute_result",
          "data": {
            "text/plain": [
              "tensor([[1., 0., 0., 0., 0.],\n",
              "        [0., 1., 0., 0., 0.],\n",
              "        [0., 0., 1., 0., 0.],\n",
              "        [0., 0., 0., 1., 0.],\n",
              "        [0., 0., 0., 0., 1.]])"
            ]
          },
          "metadata": {
            "tags": []
          },
          "execution_count": 16
        }
      ]
    },
    {
      "cell_type": "code",
      "metadata": {
        "colab": {
          "base_uri": "https://localhost:8080/"
        },
        "id": "i1Cuh7Ah-lJE",
        "outputId": "203ad9e3-f78e-45fe-e04a-71dfe2e013ba"
      },
      "source": [
        "torch.arange(start=0,end=5,step=1)"
      ],
      "execution_count": 17,
      "outputs": [
        {
          "output_type": "execute_result",
          "data": {
            "text/plain": [
              "tensor([0, 1, 2, 3, 4])"
            ]
          },
          "metadata": {
            "tags": []
          },
          "execution_count": 17
        }
      ]
    },
    {
      "cell_type": "code",
      "metadata": {
        "colab": {
          "base_uri": "https://localhost:8080/"
        },
        "id": "rCKaKcaj-1Eh",
        "outputId": "202a6b01-fb3e-4a70-8d68-2015f77fe904"
      },
      "source": [
        "torch.linspace(start=0.1,end=1,steps=10)"
      ],
      "execution_count": 18,
      "outputs": [
        {
          "output_type": "execute_result",
          "data": {
            "text/plain": [
              "tensor([0.1000, 0.2000, 0.3000, 0.4000, 0.5000, 0.6000, 0.7000, 0.8000, 0.9000,\n",
              "        1.0000])"
            ]
          },
          "metadata": {
            "tags": []
          },
          "execution_count": 18
        }
      ]
    },
    {
      "cell_type": "code",
      "metadata": {
        "colab": {
          "base_uri": "https://localhost:8080/"
        },
        "id": "QxrofeCb_Tiy",
        "outputId": "f40742fe-37c4-4c10-abb9-9a03f993c762"
      },
      "source": [
        "torch.empty((1,5)).normal_(mean=0,std=1)"
      ],
      "execution_count": 19,
      "outputs": [
        {
          "output_type": "execute_result",
          "data": {
            "text/plain": [
              "tensor([[ 2.1287,  1.3552, -0.9480,  0.4848, -3.3666]])"
            ]
          },
          "metadata": {
            "tags": []
          },
          "execution_count": 19
        }
      ]
    },
    {
      "cell_type": "markdown",
      "metadata": {
        "id": "MWhdVOwY9XG_"
      },
      "source": [
        "**How to Initialize and convert tensor into different **"
      ]
    },
    {
      "cell_type": "code",
      "metadata": {
        "id": "38htpv4k9KqZ"
      },
      "source": [
        "tensor = torch.tensor([[1,2,3],[4,5,6]])"
      ],
      "execution_count": 20,
      "outputs": []
    },
    {
      "cell_type": "code",
      "metadata": {
        "colab": {
          "base_uri": "https://localhost:8080/"
        },
        "id": "7-EmIM9W-2sD",
        "outputId": "df4e26fe-fbcb-4502-f6cc-78b0524d5d74"
      },
      "source": [
        "print(tensor) \n",
        "print(tensor.short()) #int16\n",
        "print(tensor.long())  #int64\n",
        "print(tensor.half())  #float16\n",
        "print(tensor.float()) #float32\n",
        "print(tensor.double())  #float64"
      ],
      "execution_count": 21,
      "outputs": [
        {
          "output_type": "stream",
          "text": [
            "tensor([[1, 2, 3],\n",
            "        [4, 5, 6]])\n",
            "tensor([[1, 2, 3],\n",
            "        [4, 5, 6]], dtype=torch.int16)\n",
            "tensor([[1, 2, 3],\n",
            "        [4, 5, 6]])\n",
            "tensor([[1., 2., 3.],\n",
            "        [4., 5., 6.]], dtype=torch.float16)\n",
            "tensor([[1., 2., 3.],\n",
            "        [4., 5., 6.]])\n",
            "tensor([[1., 2., 3.],\n",
            "        [4., 5., 6.]], dtype=torch.float64)\n"
          ],
          "name": "stdout"
        }
      ]
    },
    {
      "cell_type": "code",
      "metadata": {
        "colab": {
          "base_uri": "https://localhost:8080/"
        },
        "id": "gLh5NhArAC1e",
        "outputId": "8c27640b-612a-493a-f75d-124589883d50"
      },
      "source": [
        "tensor.data_ptr() == tensor.long().data_ptr() #tensor.long() is the same as tensor (both are int 64)"
      ],
      "execution_count": 22,
      "outputs": [
        {
          "output_type": "execute_result",
          "data": {
            "text/plain": [
              "True"
            ]
          },
          "metadata": {
            "tags": []
          },
          "execution_count": 22
        }
      ]
    },
    {
      "cell_type": "markdown",
      "metadata": {
        "id": "-asQrEEOBZWI"
      },
      "source": [
        "**Conversation between tensor and Numpy Array**\n",
        "\n"
      ]
    },
    {
      "cell_type": "code",
      "metadata": {
        "id": "s2SceeDAA0Le"
      },
      "source": [
        "#From Numpy to Tensor\n",
        "import numpy as np\n",
        "array = np.zeros((5,5))\n",
        "tensor_t = torch.from_numpy(array)"
      ],
      "execution_count": 23,
      "outputs": []
    },
    {
      "cell_type": "code",
      "metadata": {
        "id": "cyXKgsEbDA2c"
      },
      "source": [
        "#From Tensor to Numpy\n",
        "numpy_array_back = tensor_t.numpy()"
      ],
      "execution_count": 24,
      "outputs": []
    },
    {
      "cell_type": "markdown",
      "metadata": {
        "id": "LAvOxF5xDXp9"
      },
      "source": [
        "**Tensor Math & Comperazion Operation**\n",
        "\n",
        "works only if the shape of both the tensor is same"
      ]
    },
    {
      "cell_type": "code",
      "metadata": {
        "id": "KROibT2KEWuE"
      },
      "source": [
        "x = torch.tensor([[1,2,3]])\n",
        "y = torch.tensor([[3,2,1]])"
      ],
      "execution_count": 25,
      "outputs": []
    },
    {
      "cell_type": "code",
      "metadata": {
        "colab": {
          "base_uri": "https://localhost:8080/"
        },
        "id": "qaW-ExmxEqhJ",
        "outputId": "f94d3356-4fb3-4dd2-dbd2-926b671fc13d"
      },
      "source": [
        "z = x + y\n",
        "print(z)"
      ],
      "execution_count": 26,
      "outputs": [
        {
          "output_type": "stream",
          "text": [
            "tensor([[4, 4, 4]])\n"
          ],
          "name": "stdout"
        }
      ]
    },
    {
      "cell_type": "code",
      "metadata": {
        "colab": {
          "base_uri": "https://localhost:8080/"
        },
        "id": "zKbMrIyxEusA",
        "outputId": "1ede773a-e077-40f2-8526-48ed3a149446"
      },
      "source": [
        "z = x - y\n",
        "print(z)"
      ],
      "execution_count": 27,
      "outputs": [
        {
          "output_type": "stream",
          "text": [
            "tensor([[-2,  0,  2]])\n"
          ],
          "name": "stdout"
        }
      ]
    },
    {
      "cell_type": "code",
      "metadata": {
        "colab": {
          "base_uri": "https://localhost:8080/"
        },
        "id": "OHsnSaU7ExWD",
        "outputId": "d0db4c4b-95df-42d7-fd91-cb961a34ba8f"
      },
      "source": [
        "z = torch.true_divide(x,y)\n",
        "print(z)"
      ],
      "execution_count": 28,
      "outputs": [
        {
          "output_type": "stream",
          "text": [
            "tensor([[0.3333, 1.0000, 3.0000]])\n"
          ],
          "name": "stdout"
        }
      ]
    },
    {
      "cell_type": "markdown",
      "metadata": {
        "id": "Jn_bTWyTv1vU"
      },
      "source": [
        "Adding Inplace"
      ]
    },
    {
      "cell_type": "code",
      "metadata": {
        "colab": {
          "base_uri": "https://localhost:8080/"
        },
        "id": "nv2cfaXSFA78",
        "outputId": "23a01d30-a9a6-4de9-8dfe-f22da3dbc8bc"
      },
      "source": [
        "tensor_t = torch.rand((1,3))\n",
        "print(tensor_t)\n",
        "tensor_t.add_(x)\n",
        "print(tensor_t)\n",
        "###you can also used this to keep the pointer same\n",
        "tensor_t+=x"
      ],
      "execution_count": 49,
      "outputs": [
        {
          "output_type": "stream",
          "text": [
            "tensor([[0.7551, 0.1161, 0.1025]])\n",
            "tensor([[ 1.7551, -0.8839,  1.1025]])\n"
          ],
          "name": "stdout"
        }
      ]
    },
    {
      "cell_type": "code",
      "metadata": {
        "id": "BXzkV-byyf3z"
      },
      "source": [
        "x = torch.rand((1,3))"
      ],
      "execution_count": 61,
      "outputs": []
    },
    {
      "cell_type": "markdown",
      "metadata": {
        "id": "sv5EqDoxxrP_"
      },
      "source": [
        "Element wise Exponential"
      ]
    },
    {
      "cell_type": "code",
      "metadata": {
        "colab": {
          "base_uri": "https://localhost:8080/"
        },
        "id": "PVjClmgiw4qs",
        "outputId": "a0936c80-2a82-4740-a780-6651543d019f"
      },
      "source": [
        "x.pow_(3) #keeping the pointer same\n",
        "x\n",
        "x = x ** 3 #copy\n",
        "x"
      ],
      "execution_count": 62,
      "outputs": [
        {
          "output_type": "execute_result",
          "data": {
            "text/plain": [
              "tensor([[1.7165e-01, 3.6534e-14, 8.0311e-04]])"
            ]
          },
          "metadata": {
            "tags": []
          },
          "execution_count": 62
        }
      ]
    },
    {
      "cell_type": "markdown",
      "metadata": {
        "id": "NMwcT0SQyn8G"
      },
      "source": [
        "Matrix Multiplication"
      ]
    },
    {
      "cell_type": "code",
      "metadata": {
        "colab": {
          "base_uri": "https://localhost:8080/"
        },
        "id": "fsu3Q5tjynAG",
        "outputId": "e4508e29-84dc-4f28-9a05-1099fd3d1e4c"
      },
      "source": [
        "t1 = torch.rand((1,3))\n",
        "t2 = torch.rand((3,5))\n",
        "print(torch.mm(t1,t2))"
      ],
      "execution_count": 67,
      "outputs": [
        {
          "output_type": "stream",
          "text": [
            "tensor([[0.7568, 0.7168, 0.5614, 0.5167, 0.7598]])\n"
          ],
          "name": "stdout"
        }
      ]
    },
    {
      "cell_type": "markdown",
      "metadata": {
        "id": "5p0i_-N92_lX"
      },
      "source": [
        "Matrix Power"
      ]
    },
    {
      "cell_type": "code",
      "metadata": {
        "colab": {
          "base_uri": "https://localhost:8080/"
        },
        "id": "92Vz0UlD2xuY",
        "outputId": "1028e2f3-9d61-48ba-cfff-b539f38be9b3"
      },
      "source": [
        "t1 = torch.tensor([[1,2],[2,1]],dtype=float)\n",
        "# t2 = torch.rand((1,3))\n",
        "print(t1)\n",
        "t1 = t1.mm(t1)\n",
        "print(t1)"
      ],
      "execution_count": 77,
      "outputs": [
        {
          "output_type": "stream",
          "text": [
            "tensor([[1., 2.],\n",
            "        [2., 1.]], dtype=torch.float64)\n",
            "tensor([[5., 4.],\n",
            "        [4., 5.]], dtype=torch.float64)\n"
          ],
          "name": "stdout"
        }
      ]
    },
    {
      "cell_type": "markdown",
      "metadata": {
        "id": "0FYUFVI44na6"
      },
      "source": [
        "Element Wise Multiplication & Dot Product\n",
        "\n"
      ]
    },
    {
      "cell_type": "code",
      "metadata": {
        "colab": {
          "base_uri": "https://localhost:8080/"
        },
        "id": "Scwv-DcK4I6i",
        "outputId": "e4300604-ca3e-41ea-d40c-a1f152c55d08"
      },
      "source": [
        "#Both the tensor has to have same shape for doing element wise mul\n",
        "x = torch.tensor([1,2,3])\n",
        "y = torch.tensor([1,2,3])\n",
        "z = x * y\n",
        "print(z)"
      ],
      "execution_count": 80,
      "outputs": [
        {
          "output_type": "stream",
          "text": [
            "tensor([1, 4, 9])\n"
          ],
          "name": "stdout"
        }
      ]
    },
    {
      "cell_type": "code",
      "metadata": {
        "colab": {
          "base_uri": "https://localhost:8080/"
        },
        "id": "TyOLA5zz7NUn",
        "outputId": "36694ad1-0fba-4acf-b19e-2b3f58f53b8f"
      },
      "source": [
        "#Dot\n",
        "z = x.dot(y)\n",
        "z"
      ],
      "execution_count": 81,
      "outputs": [
        {
          "output_type": "execute_result",
          "data": {
            "text/plain": [
              "tensor(14)"
            ]
          },
          "metadata": {
            "tags": []
          },
          "execution_count": 81
        }
      ]
    },
    {
      "cell_type": "markdown",
      "metadata": {
        "id": "HhVPPhb77W2H"
      },
      "source": [
        "Batch Wise Multiplication"
      ]
    },
    {
      "cell_type": "code",
      "metadata": {
        "colab": {
          "base_uri": "https://localhost:8080/"
        },
        "id": "PDfe5Czz7WNK",
        "outputId": "c47bbaee-80ab-44a0-8317-c3c52e2b40e3"
      },
      "source": [
        "batch = 32\n",
        "n = 10\n",
        "m = 20\n",
        "p = 30\n",
        "x = torch.rand((batch,n,m))\n",
        "y = torch.rand((batch,m,p))\n",
        "z = torch.bmm(x,y)\n",
        "print(z.shape) ##shape (batch,n,p)"
      ],
      "execution_count": 84,
      "outputs": [
        {
          "output_type": "stream",
          "text": [
            "torch.Size([32, 10, 30])\n"
          ],
          "name": "stdout"
        }
      ]
    }
  ]
}