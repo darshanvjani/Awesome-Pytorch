{
  "nbformat": 4,
  "nbformat_minor": 0,
  "metadata": {
    "colab": {
      "name": "Initializing Tensors",
      "provenance": [],
      "collapsed_sections": [],
      "authorship_tag": "ABX9TyOuXYffU031R395RUPMcLrK",
      "include_colab_link": true
    },
    "kernelspec": {
      "name": "python3",
      "display_name": "Python 3"
    },
    "language_info": {
      "name": "python"
    }
  },
  "cells": [
    {
      "cell_type": "markdown",
      "metadata": {
        "id": "view-in-github",
        "colab_type": "text"
      },
      "source": [
        "<a href=\"https://colab.research.google.com/github/darshanvjani/Awesome-Pytorch/blob/main/Initializing_Tensors.ipynb\" target=\"_parent\"><img src=\"https://colab.research.google.com/assets/colab-badge.svg\" alt=\"Open In Colab\"/></a>"
      ]
    },
    {
      "cell_type": "code",
      "metadata": {
        "id": "QZsZCCkNxUjh"
      },
      "source": [
        "import torch"
      ],
      "execution_count": 1,
      "outputs": []
    },
    {
      "cell_type": "code",
      "metadata": {
        "id": "IaJWGnqCxf0E"
      },
      "source": [
        "my_tensor = torch.tensor([[1,2,3],[4,5,6]])"
      ],
      "execution_count": 2,
      "outputs": []
    },
    {
      "cell_type": "code",
      "metadata": {
        "colab": {
          "base_uri": "https://localhost:8080/"
        },
        "id": "3crBJzWgyPuY",
        "outputId": "a03db1ea-d5f3-4d29-8352-a5e0752fce1d"
      },
      "source": [
        "print(my_tensor)"
      ],
      "execution_count": 3,
      "outputs": [
        {
          "output_type": "stream",
          "text": [
            "tensor([[1, 2, 3],\n",
            "        [4, 5, 6]])\n"
          ],
          "name": "stdout"
        }
      ]
    },
    {
      "cell_type": "markdown",
      "metadata": {
        "id": "3-bueGP2yVbm"
      },
      "source": [
        "We can set the type of the tensor as well."
      ]
    },
    {
      "cell_type": "code",
      "metadata": {
        "colab": {
          "base_uri": "https://localhost:8080/"
        },
        "id": "4iLHUOd8yS9k",
        "outputId": "033296ee-5ade-402a-981b-791fdd43e4b9"
      },
      "source": [
        "torch.tensor([[1,2,3],[4,5,6]],dtype=torch.float32)"
      ],
      "execution_count": 4,
      "outputs": [
        {
          "output_type": "execute_result",
          "data": {
            "text/plain": [
              "tensor([[1., 2., 3.],\n",
              "        [4., 5., 6.]])"
            ]
          },
          "metadata": {
            "tags": []
          },
          "execution_count": 4
        }
      ]
    },
    {
      "cell_type": "markdown",
      "metadata": {
        "id": "mupwLbvp2Fr8"
      },
      "source": [
        "We can set where this value will be on."
      ]
    },
    {
      "cell_type": "code",
      "metadata": {
        "colab": {
          "base_uri": "https://localhost:8080/"
        },
        "id": "VHVzbKjP2Lhb",
        "outputId": "f2bc78d5-3b7d-4470-80a2-735df2624a18"
      },
      "source": [
        "torch.tensor([[1,2,3],[4,5,6]],dtype=torch.float32,device=\"cpu\")"
      ],
      "execution_count": 5,
      "outputs": [
        {
          "output_type": "execute_result",
          "data": {
            "text/plain": [
              "tensor([[1., 2., 3.],\n",
              "        [4., 5., 6.]])"
            ]
          },
          "metadata": {
            "tags": []
          },
          "execution_count": 5
        }
      ]
    },
    {
      "cell_type": "markdown",
      "metadata": {
        "id": "fvTEyjQK2dZn"
      },
      "source": [
        "we can add requires gradient as well which can br used while backprop."
      ]
    },
    {
      "cell_type": "code",
      "metadata": {
        "colab": {
          "base_uri": "https://localhost:8080/"
        },
        "id": "vIHObV0r2Xco",
        "outputId": "1ad85bd7-630d-440e-c5c4-be875bcc640c"
      },
      "source": [
        "torch.tensor([[1,2,3],[4,5,6]],dtype=torch.float32,device=\"cpu\",requires_grad=True)"
      ],
      "execution_count": 6,
      "outputs": [
        {
          "output_type": "execute_result",
          "data": {
            "text/plain": [
              "tensor([[1., 2., 3.],\n",
              "        [4., 5., 6.]], requires_grad=True)"
            ]
          },
          "metadata": {
            "tags": []
          },
          "execution_count": 6
        }
      ]
    },
    {
      "cell_type": "markdown",
      "metadata": {
        "id": "UTXebhhy24gW"
      },
      "source": [
        "we can write it as this as well to make the cpu/gpu memory allocation automatic."
      ]
    },
    {
      "cell_type": "code",
      "metadata": {
        "id": "jcYCYclT2qng"
      },
      "source": [
        "device = \"cuda\" if torch.cuda.is_available() else \"cpu\"\n",
        "my_tensor = torch.tensor([[1,2,3],[4,5,6]],dtype=torch.float32,device=device,requires_grad=True)"
      ],
      "execution_count": 7,
      "outputs": []
    },
    {
      "cell_type": "code",
      "metadata": {
        "colab": {
          "base_uri": "https://localhost:8080/"
        },
        "id": "2PijrySS3PUR",
        "outputId": "0183634b-1e9e-4922-db53-ffd5baa144c3"
      },
      "source": [
        "print(my_tensor)\n",
        "print(my_tensor.dtype)\n",
        "print(my_tensor.device)\n",
        "print(my_tensor.shape)\n",
        "print(my_tensor.requires_grad)"
      ],
      "execution_count": 8,
      "outputs": [
        {
          "output_type": "stream",
          "text": [
            "tensor([[1., 2., 3.],\n",
            "        [4., 5., 6.]], requires_grad=True)\n",
            "torch.float32\n",
            "cpu\n",
            "torch.Size([2, 3])\n",
            "True\n"
          ],
          "name": "stdout"
        }
      ]
    },
    {
      "cell_type": "markdown",
      "metadata": {
        "id": "9jUmKBlQ8Qpu"
      },
      "source": [
        "Other Innitialization Methods"
      ]
    },
    {
      "cell_type": "code",
      "metadata": {
        "colab": {
          "base_uri": "https://localhost:8080/"
        },
        "id": "otfcuy_d8CA5",
        "outputId": "c90b408d-3ad4-4ed9-d275-b4d3ce5649d9"
      },
      "source": [
        "x = torch.empty(size=(3,3))\n",
        "print(x)"
      ],
      "execution_count": 9,
      "outputs": [
        {
          "output_type": "stream",
          "text": [
            "tensor([[-9.0858e+33,  3.0753e-41,  3.3631e-44],\n",
            "        [ 0.0000e+00,         nan,  1.4013e-45],\n",
            "        [ 1.1578e+27,  1.1362e+30,  7.1547e+22]])\n"
          ],
          "name": "stdout"
        }
      ]
    },
    {
      "cell_type": "code",
      "metadata": {
        "colab": {
          "base_uri": "https://localhost:8080/"
        },
        "id": "MJJRYGEH8V4q",
        "outputId": "ad537a4a-f1f2-46b4-a134-908f598b4340"
      },
      "source": [
        "#For Zero Matrix\n",
        "x = torch.zeros((3,3))\n",
        "print(x)"
      ],
      "execution_count": 10,
      "outputs": [
        {
          "output_type": "stream",
          "text": [
            "tensor([[0., 0., 0.],\n",
            "        [0., 0., 0.],\n",
            "        [0., 0., 0.]])\n"
          ],
          "name": "stdout"
        }
      ]
    },
    {
      "cell_type": "markdown",
      "metadata": {
        "id": "SaQ9w46g8zKt"
      },
      "source": [
        "to initialize values with uniform distribution randomly"
      ]
    },
    {
      "cell_type": "code",
      "metadata": {
        "colab": {
          "base_uri": "https://localhost:8080/"
        },
        "id": "rNs12WHd842F",
        "outputId": "d0a18790-4087-400c-fbea-b070d1e1bff8"
      },
      "source": [
        "x = torch.rand((3,3))\n",
        "print(x)"
      ],
      "execution_count": 11,
      "outputs": [
        {
          "output_type": "stream",
          "text": [
            "tensor([[0.2061, 0.1363, 0.0959],\n",
            "        [0.2849, 0.2748, 0.6789],\n",
            "        [0.6810, 0.1089, 0.3439]])\n"
          ],
          "name": "stdout"
        }
      ]
    },
    {
      "cell_type": "markdown",
      "metadata": {
        "id": "Nws6cmat9DPd"
      },
      "source": [
        "to initialize value with all the ones"
      ]
    },
    {
      "cell_type": "code",
      "metadata": {
        "colab": {
          "base_uri": "https://localhost:8080/"
        },
        "id": "si9iQYyj9GC6",
        "outputId": "3cb6b4e6-9174-4f4f-f856-7eff513b11b4"
      },
      "source": [
        "x = torch.ones((3,3))\n",
        "print(x)"
      ],
      "execution_count": 12,
      "outputs": [
        {
          "output_type": "stream",
          "text": [
            "tensor([[1., 1., 1.],\n",
            "        [1., 1., 1.],\n",
            "        [1., 1., 1.]])\n"
          ],
          "name": "stdout"
        }
      ]
    },
    {
      "cell_type": "markdown",
      "metadata": {
        "id": "m5ajHcql9MBy"
      },
      "source": [
        "to initilize identity matrix"
      ]
    },
    {
      "cell_type": "code",
      "metadata": {
        "colab": {
          "base_uri": "https://localhost:8080/"
        },
        "id": "lbZJXwfE9QM1",
        "outputId": "d6e70801-1d2f-4edc-ca6a-f3639279c8a5"
      },
      "source": [
        "torch.eye(5,5)"
      ],
      "execution_count": 13,
      "outputs": [
        {
          "output_type": "execute_result",
          "data": {
            "text/plain": [
              "tensor([[1., 0., 0., 0., 0.],\n",
              "        [0., 1., 0., 0., 0.],\n",
              "        [0., 0., 1., 0., 0.],\n",
              "        [0., 0., 0., 1., 0.],\n",
              "        [0., 0., 0., 0., 1.]])"
            ]
          },
          "metadata": {
            "tags": []
          },
          "execution_count": 13
        }
      ]
    },
    {
      "cell_type": "code",
      "metadata": {
        "colab": {
          "base_uri": "https://localhost:8080/"
        },
        "id": "i1Cuh7Ah-lJE",
        "outputId": "1ebaae66-7c23-4d27-e50a-5981ccfce24b"
      },
      "source": [
        "torch.arange(start=0,end=5,step=1)"
      ],
      "execution_count": 14,
      "outputs": [
        {
          "output_type": "execute_result",
          "data": {
            "text/plain": [
              "tensor([0, 1, 2, 3, 4])"
            ]
          },
          "metadata": {
            "tags": []
          },
          "execution_count": 14
        }
      ]
    },
    {
      "cell_type": "code",
      "metadata": {
        "colab": {
          "base_uri": "https://localhost:8080/"
        },
        "id": "rCKaKcaj-1Eh",
        "outputId": "3ac9ee38-4519-4dd3-8e58-e1d8644eef8d"
      },
      "source": [
        "torch.linspace(start=0.1,end=1,steps=10)"
      ],
      "execution_count": 15,
      "outputs": [
        {
          "output_type": "execute_result",
          "data": {
            "text/plain": [
              "tensor([0.1000, 0.2000, 0.3000, 0.4000, 0.5000, 0.6000, 0.7000, 0.8000, 0.9000,\n",
              "        1.0000])"
            ]
          },
          "metadata": {
            "tags": []
          },
          "execution_count": 15
        }
      ]
    },
    {
      "cell_type": "code",
      "metadata": {
        "colab": {
          "base_uri": "https://localhost:8080/"
        },
        "id": "QxrofeCb_Tiy",
        "outputId": "b28b86eb-34f5-4026-8dc8-41f61163d836"
      },
      "source": [
        "torch.empty((1,5)).normal_(mean=0,std=1)"
      ],
      "execution_count": 16,
      "outputs": [
        {
          "output_type": "execute_result",
          "data": {
            "text/plain": [
              "tensor([[ 1.7047,  0.4445, -1.0532, -0.0599,  1.4764]])"
            ]
          },
          "metadata": {
            "tags": []
          },
          "execution_count": 16
        }
      ]
    },
    {
      "cell_type": "markdown",
      "metadata": {
        "id": "MWhdVOwY9XG_"
      },
      "source": [
        "**How to Initialize and convert tensor into different **"
      ]
    },
    {
      "cell_type": "code",
      "metadata": {
        "id": "38htpv4k9KqZ"
      },
      "source": [
        "tensor = torch.tensor([[1,2,3],[4,5,6]])"
      ],
      "execution_count": 18,
      "outputs": []
    },
    {
      "cell_type": "code",
      "metadata": {
        "colab": {
          "base_uri": "https://localhost:8080/"
        },
        "id": "7-EmIM9W-2sD",
        "outputId": "6b56eba0-d49d-4cf1-8e17-9d6059708e3f"
      },
      "source": [
        "print(tensor) \n",
        "print(tensor.short()) #int16\n",
        "print(tensor.long())  #int64\n",
        "print(tensor.half())  #float16\n",
        "print(tensor.float()) #float32\n",
        "print(tensor.double())  #float64"
      ],
      "execution_count": 21,
      "outputs": [
        {
          "output_type": "stream",
          "text": [
            "tensor([[1, 2, 3],\n",
            "        [4, 5, 6]])\n",
            "tensor([[1, 2, 3],\n",
            "        [4, 5, 6]], dtype=torch.int16)\n",
            "tensor([[1, 2, 3],\n",
            "        [4, 5, 6]])\n",
            "tensor([[1., 2., 3.],\n",
            "        [4., 5., 6.]], dtype=torch.float16)\n",
            "tensor([[1., 2., 3.],\n",
            "        [4., 5., 6.]])\n",
            "tensor([[1., 2., 3.],\n",
            "        [4., 5., 6.]], dtype=torch.float64)\n"
          ],
          "name": "stdout"
        }
      ]
    },
    {
      "cell_type": "code",
      "metadata": {
        "colab": {
          "base_uri": "https://localhost:8080/"
        },
        "id": "gLh5NhArAC1e",
        "outputId": "14588869-3b35-40d0-a201-c38ce732977f"
      },
      "source": [
        "tensor.data_ptr() == tensor.long().data_ptr() #tensor.long() is the same as tensor (both are int 64)"
      ],
      "execution_count": 32,
      "outputs": [
        {
          "output_type": "execute_result",
          "data": {
            "text/plain": [
              "True"
            ]
          },
          "metadata": {
            "tags": []
          },
          "execution_count": 32
        }
      ]
    },
    {
      "cell_type": "code",
      "metadata": {
        "id": "s2SceeDAA0Le"
      },
      "source": [
        ""
      ],
      "execution_count": null,
      "outputs": []
    }
  ]
}